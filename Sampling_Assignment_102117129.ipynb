{
  "cells": [
    {
      "cell_type": "markdown",
      "metadata": {
        "colab_type": "text",
        "id": "view-in-github"
      },
      "source": [
        "<a href=\"https://colab.research.google.com/github/praneykalra16/Predictive-Analysis-Assignments/blob/main/Sampling_Assignment.ipynb\" target=\"_parent\"><img src=\"https://colab.research.google.com/assets/colab-badge.svg\" alt=\"Open In Colab\"/></a>"
      ]
    },
    {
      "cell_type": "code",
      "execution_count": 2,
      "metadata": {
        "id": "9DQ8VWdfSri4"
      },
      "outputs": [],
      "source": [
        "import pandas as pd\n",
        "import numpy as np"
      ]
    },
    {
      "cell_type": "code",
      "execution_count": 3,
      "metadata": {
        "colab": {
          "base_uri": "https://localhost:8080/",
          "height": 255
        },
        "id": "-VJg_5vSSzOE",
        "outputId": "6301d007-10ac-4f81-9a24-6419f3505a57"
      },
      "outputs": [
        {
          "data": {
            "text/html": [
              "<div>\n",
              "<style scoped>\n",
              "    .dataframe tbody tr th:only-of-type {\n",
              "        vertical-align: middle;\n",
              "    }\n",
              "\n",
              "    .dataframe tbody tr th {\n",
              "        vertical-align: top;\n",
              "    }\n",
              "\n",
              "    .dataframe thead th {\n",
              "        text-align: right;\n",
              "    }\n",
              "</style>\n",
              "<table border=\"1\" class=\"dataframe\">\n",
              "  <thead>\n",
              "    <tr style=\"text-align: right;\">\n",
              "      <th></th>\n",
              "      <th>Time</th>\n",
              "      <th>V1</th>\n",
              "      <th>V2</th>\n",
              "      <th>V3</th>\n",
              "      <th>V4</th>\n",
              "      <th>V5</th>\n",
              "      <th>V6</th>\n",
              "      <th>V7</th>\n",
              "      <th>V8</th>\n",
              "      <th>V9</th>\n",
              "      <th>...</th>\n",
              "      <th>V21</th>\n",
              "      <th>V22</th>\n",
              "      <th>V23</th>\n",
              "      <th>V24</th>\n",
              "      <th>V25</th>\n",
              "      <th>V26</th>\n",
              "      <th>V27</th>\n",
              "      <th>V28</th>\n",
              "      <th>Amount</th>\n",
              "      <th>Class</th>\n",
              "    </tr>\n",
              "  </thead>\n",
              "  <tbody>\n",
              "    <tr>\n",
              "      <th>0</th>\n",
              "      <td>0</td>\n",
              "      <td>-1.359807</td>\n",
              "      <td>-0.072781</td>\n",
              "      <td>2.536347</td>\n",
              "      <td>1.378155</td>\n",
              "      <td>-0.338321</td>\n",
              "      <td>0.462388</td>\n",
              "      <td>0.239599</td>\n",
              "      <td>0.098698</td>\n",
              "      <td>0.363787</td>\n",
              "      <td>...</td>\n",
              "      <td>-0.018307</td>\n",
              "      <td>0.277838</td>\n",
              "      <td>-0.110474</td>\n",
              "      <td>0.066928</td>\n",
              "      <td>0.128539</td>\n",
              "      <td>-0.189115</td>\n",
              "      <td>0.133558</td>\n",
              "      <td>-0.021053</td>\n",
              "      <td>149.62</td>\n",
              "      <td>0</td>\n",
              "    </tr>\n",
              "    <tr>\n",
              "      <th>1</th>\n",
              "      <td>0</td>\n",
              "      <td>1.191857</td>\n",
              "      <td>0.266151</td>\n",
              "      <td>0.166480</td>\n",
              "      <td>0.448154</td>\n",
              "      <td>0.060018</td>\n",
              "      <td>-0.082361</td>\n",
              "      <td>-0.078803</td>\n",
              "      <td>0.085102</td>\n",
              "      <td>-0.255425</td>\n",
              "      <td>...</td>\n",
              "      <td>-0.225775</td>\n",
              "      <td>-0.638672</td>\n",
              "      <td>0.101288</td>\n",
              "      <td>-0.339846</td>\n",
              "      <td>0.167170</td>\n",
              "      <td>0.125895</td>\n",
              "      <td>-0.008983</td>\n",
              "      <td>0.014724</td>\n",
              "      <td>2.69</td>\n",
              "      <td>1</td>\n",
              "    </tr>\n",
              "    <tr>\n",
              "      <th>2</th>\n",
              "      <td>1</td>\n",
              "      <td>-1.358354</td>\n",
              "      <td>-1.340163</td>\n",
              "      <td>1.773209</td>\n",
              "      <td>0.379780</td>\n",
              "      <td>-0.503198</td>\n",
              "      <td>1.800499</td>\n",
              "      <td>0.791461</td>\n",
              "      <td>0.247676</td>\n",
              "      <td>-1.514654</td>\n",
              "      <td>...</td>\n",
              "      <td>0.247998</td>\n",
              "      <td>0.771679</td>\n",
              "      <td>0.909412</td>\n",
              "      <td>-0.689281</td>\n",
              "      <td>-0.327642</td>\n",
              "      <td>-0.139097</td>\n",
              "      <td>-0.055353</td>\n",
              "      <td>-0.059752</td>\n",
              "      <td>378.66</td>\n",
              "      <td>0</td>\n",
              "    </tr>\n",
              "    <tr>\n",
              "      <th>3</th>\n",
              "      <td>1</td>\n",
              "      <td>-0.966272</td>\n",
              "      <td>-0.185226</td>\n",
              "      <td>1.792993</td>\n",
              "      <td>-0.863291</td>\n",
              "      <td>-0.010309</td>\n",
              "      <td>1.247203</td>\n",
              "      <td>0.237609</td>\n",
              "      <td>0.377436</td>\n",
              "      <td>-1.387024</td>\n",
              "      <td>...</td>\n",
              "      <td>-0.108300</td>\n",
              "      <td>0.005274</td>\n",
              "      <td>-0.190321</td>\n",
              "      <td>-1.175575</td>\n",
              "      <td>0.647376</td>\n",
              "      <td>-0.221929</td>\n",
              "      <td>0.062723</td>\n",
              "      <td>0.061458</td>\n",
              "      <td>123.50</td>\n",
              "      <td>0</td>\n",
              "    </tr>\n",
              "    <tr>\n",
              "      <th>4</th>\n",
              "      <td>2</td>\n",
              "      <td>-1.158233</td>\n",
              "      <td>0.877737</td>\n",
              "      <td>1.548718</td>\n",
              "      <td>0.403034</td>\n",
              "      <td>-0.407193</td>\n",
              "      <td>0.095921</td>\n",
              "      <td>0.592941</td>\n",
              "      <td>-0.270533</td>\n",
              "      <td>0.817739</td>\n",
              "      <td>...</td>\n",
              "      <td>-0.009431</td>\n",
              "      <td>0.798278</td>\n",
              "      <td>-0.137458</td>\n",
              "      <td>0.141267</td>\n",
              "      <td>-0.206010</td>\n",
              "      <td>0.502292</td>\n",
              "      <td>0.219422</td>\n",
              "      <td>0.215153</td>\n",
              "      <td>69.99</td>\n",
              "      <td>0</td>\n",
              "    </tr>\n",
              "  </tbody>\n",
              "</table>\n",
              "<p>5 rows × 31 columns</p>\n",
              "</div>"
            ],
            "text/plain": [
              "   Time        V1        V2        V3        V4        V5        V6        V7  \\\n",
              "0     0 -1.359807 -0.072781  2.536347  1.378155 -0.338321  0.462388  0.239599   \n",
              "1     0  1.191857  0.266151  0.166480  0.448154  0.060018 -0.082361 -0.078803   \n",
              "2     1 -1.358354 -1.340163  1.773209  0.379780 -0.503198  1.800499  0.791461   \n",
              "3     1 -0.966272 -0.185226  1.792993 -0.863291 -0.010309  1.247203  0.237609   \n",
              "4     2 -1.158233  0.877737  1.548718  0.403034 -0.407193  0.095921  0.592941   \n",
              "\n",
              "         V8        V9  ...       V21       V22       V23       V24       V25  \\\n",
              "0  0.098698  0.363787  ... -0.018307  0.277838 -0.110474  0.066928  0.128539   \n",
              "1  0.085102 -0.255425  ... -0.225775 -0.638672  0.101288 -0.339846  0.167170   \n",
              "2  0.247676 -1.514654  ...  0.247998  0.771679  0.909412 -0.689281 -0.327642   \n",
              "3  0.377436 -1.387024  ... -0.108300  0.005274 -0.190321 -1.175575  0.647376   \n",
              "4 -0.270533  0.817739  ... -0.009431  0.798278 -0.137458  0.141267 -0.206010   \n",
              "\n",
              "        V26       V27       V28  Amount  Class  \n",
              "0 -0.189115  0.133558 -0.021053  149.62      0  \n",
              "1  0.125895 -0.008983  0.014724    2.69      1  \n",
              "2 -0.139097 -0.055353 -0.059752  378.66      0  \n",
              "3 -0.221929  0.062723  0.061458  123.50      0  \n",
              "4  0.502292  0.219422  0.215153   69.99      0  \n",
              "\n",
              "[5 rows x 31 columns]"
            ]
          },
          "execution_count": 3,
          "metadata": {},
          "output_type": "execute_result"
        }
      ],
      "source": [
        "data=pd.read_csv('https://raw.githubusercontent.com/AnjulaMehto/Sampling_Assignment/main/Creditcard_data.csv')\n",
        "data.head()"
      ]
    },
    {
      "cell_type": "code",
      "execution_count": 4,
      "metadata": {
        "colab": {
          "base_uri": "https://localhost:8080/"
        },
        "id": "S98qNyPuS6tY",
        "outputId": "94b3f0f9-fbc4-4360-caf3-d3c17bc7013b"
      },
      "outputs": [
        {
          "data": {
            "text/plain": [
              "Time      0\n",
              "V1        0\n",
              "V2        0\n",
              "V3        0\n",
              "V4        0\n",
              "V5        0\n",
              "V6        0\n",
              "V7        0\n",
              "V8        0\n",
              "V9        0\n",
              "V10       0\n",
              "V11       0\n",
              "V12       0\n",
              "V13       0\n",
              "V14       0\n",
              "V15       0\n",
              "V16       0\n",
              "V17       0\n",
              "V18       0\n",
              "V19       0\n",
              "V20       0\n",
              "V21       0\n",
              "V22       0\n",
              "V23       0\n",
              "V24       0\n",
              "V25       0\n",
              "V26       0\n",
              "V27       0\n",
              "V28       0\n",
              "Amount    0\n",
              "Class     0\n",
              "dtype: int64"
            ]
          },
          "execution_count": 4,
          "metadata": {},
          "output_type": "execute_result"
        }
      ],
      "source": [
        "data.isnull().sum()"
      ]
    },
    {
      "cell_type": "code",
      "execution_count": 5,
      "metadata": {
        "colab": {
          "base_uri": "https://localhost:8080/"
        },
        "id": "rmieF_5NS-S0",
        "outputId": "6fe0e809-9c91-4f17-d159-9a52d4027e38"
      },
      "outputs": [
        {
          "name": "stdout",
          "output_type": "stream",
          "text": [
            "<class 'pandas.core.frame.DataFrame'>\n",
            "RangeIndex: 772 entries, 0 to 771\n",
            "Data columns (total 31 columns):\n",
            " #   Column  Non-Null Count  Dtype  \n",
            "---  ------  --------------  -----  \n",
            " 0   Time    772 non-null    int64  \n",
            " 1   V1      772 non-null    float64\n",
            " 2   V2      772 non-null    float64\n",
            " 3   V3      772 non-null    float64\n",
            " 4   V4      772 non-null    float64\n",
            " 5   V5      772 non-null    float64\n",
            " 6   V6      772 non-null    float64\n",
            " 7   V7      772 non-null    float64\n",
            " 8   V8      772 non-null    float64\n",
            " 9   V9      772 non-null    float64\n",
            " 10  V10     772 non-null    float64\n",
            " 11  V11     772 non-null    float64\n",
            " 12  V12     772 non-null    float64\n",
            " 13  V13     772 non-null    float64\n",
            " 14  V14     772 non-null    float64\n",
            " 15  V15     772 non-null    float64\n",
            " 16  V16     772 non-null    float64\n",
            " 17  V17     772 non-null    float64\n",
            " 18  V18     772 non-null    float64\n",
            " 19  V19     772 non-null    float64\n",
            " 20  V20     772 non-null    float64\n",
            " 21  V21     772 non-null    float64\n",
            " 22  V22     772 non-null    float64\n",
            " 23  V23     772 non-null    float64\n",
            " 24  V24     772 non-null    float64\n",
            " 25  V25     772 non-null    float64\n",
            " 26  V26     772 non-null    float64\n",
            " 27  V27     772 non-null    float64\n",
            " 28  V28     772 non-null    float64\n",
            " 29  Amount  772 non-null    float64\n",
            " 30  Class   772 non-null    int64  \n",
            "dtypes: float64(29), int64(2)\n",
            "memory usage: 187.1 KB\n"
          ]
        }
      ],
      "source": [
        "data.info()"
      ]
    },
    {
      "cell_type": "code",
      "execution_count": 6,
      "metadata": {
        "colab": {
          "base_uri": "https://localhost:8080/",
          "height": 430
        },
        "id": "Cy9c3R6nUQf_",
        "outputId": "5f22bd4f-0c33-47d4-da14-535298c5ba7e"
      },
      "outputs": [
        {
          "data": {
            "image/png": "[encoded data removed]",
            "text/plain": [
              "<Figure size 640x480 with 1 Axes>"
            ]
          },
          "metadata": {},
          "output_type": "display_data"
        }
      ],
      "source": [
        "import matplotlib.pyplot as plt\n",
        "data['Class'].value_counts().plot(kind='bar')\n",
        "plt.show()"
      ]
    },
    {
      "cell_type": "code",
      "execution_count": 7,
      "metadata": {
        "id": "TvTRx8GjUf8P"
      },
      "outputs": [],
      "source": [
        "x=data.drop('Class',axis=1)\n",
        "y=data['Class']"
      ]
    },
    {
      "cell_type": "code",
      "execution_count": 8,
      "metadata": {
        "colab": {
          "base_uri": "https://localhost:8080/",
          "height": 443
        },
        "id": "Dc83akUiU7qV",
        "outputId": "e37155d7-d83e-49f4-e3ae-efe181a9fa08"
      },
      "outputs": [
        {
          "data": {
            "text/html": [
              "<div>\n",
              "<style scoped>\n",
              "    .dataframe tbody tr th:only-of-type {\n",
              "        vertical-align: middle;\n",
              "    }\n",
              "\n",
              "    .dataframe tbody tr th {\n",
              "        vertical-align: top;\n",
              "    }\n",
              "\n",
              "    .dataframe thead th {\n",
              "        text-align: right;\n",
              "    }\n",
              "</style>\n",
              "<table border=\"1\" class=\"dataframe\">\n",
              "  <thead>\n",
              "    <tr style=\"text-align: right;\">\n",
              "      <th></th>\n",
              "      <th>Time</th>\n",
              "      <th>V1</th>\n",
              "      <th>V2</th>\n",
              "      <th>V3</th>\n",
              "      <th>V4</th>\n",
              "      <th>V5</th>\n",
              "      <th>V6</th>\n",
              "      <th>V7</th>\n",
              "      <th>V8</th>\n",
              "      <th>V9</th>\n",
              "      <th>...</th>\n",
              "      <th>V21</th>\n",
              "      <th>V22</th>\n",
              "      <th>V23</th>\n",
              "      <th>V24</th>\n",
              "      <th>V25</th>\n",
              "      <th>V26</th>\n",
              "      <th>V27</th>\n",
              "      <th>V28</th>\n",
              "      <th>Amount</th>\n",
              "      <th>Class</th>\n",
              "    </tr>\n",
              "  </thead>\n",
              "  <tbody>\n",
              "    <tr>\n",
              "      <th>0</th>\n",
              "      <td>0</td>\n",
              "      <td>-1.359807</td>\n",
              "      <td>-0.072781</td>\n",
              "      <td>2.536347</td>\n",
              "      <td>1.378155</td>\n",
              "      <td>-0.338321</td>\n",
              "      <td>0.462388</td>\n",
              "      <td>0.239599</td>\n",
              "      <td>0.098698</td>\n",
              "      <td>0.363787</td>\n",
              "      <td>...</td>\n",
              "      <td>-0.018307</td>\n",
              "      <td>0.277838</td>\n",
              "      <td>-0.110474</td>\n",
              "      <td>0.066928</td>\n",
              "      <td>0.128539</td>\n",
              "      <td>-0.189115</td>\n",
              "      <td>0.133558</td>\n",
              "      <td>-0.021053</td>\n",
              "      <td>149.62</td>\n",
              "      <td>0</td>\n",
              "    </tr>\n",
              "    <tr>\n",
              "      <th>1</th>\n",
              "      <td>0</td>\n",
              "      <td>1.191857</td>\n",
              "      <td>0.266151</td>\n",
              "      <td>0.166480</td>\n",
              "      <td>0.448154</td>\n",
              "      <td>0.060018</td>\n",
              "      <td>-0.082361</td>\n",
              "      <td>-0.078803</td>\n",
              "      <td>0.085102</td>\n",
              "      <td>-0.255425</td>\n",
              "      <td>...</td>\n",
              "      <td>-0.225775</td>\n",
              "      <td>-0.638672</td>\n",
              "      <td>0.101288</td>\n",
              "      <td>-0.339846</td>\n",
              "      <td>0.167170</td>\n",
              "      <td>0.125895</td>\n",
              "      <td>-0.008983</td>\n",
              "      <td>0.014724</td>\n",
              "      <td>2.69</td>\n",
              "      <td>1</td>\n",
              "    </tr>\n",
              "    <tr>\n",
              "      <th>2</th>\n",
              "      <td>1</td>\n",
              "      <td>-1.358354</td>\n",
              "      <td>-1.340163</td>\n",
              "      <td>1.773209</td>\n",
              "      <td>0.379780</td>\n",
              "      <td>-0.503198</td>\n",
              "      <td>1.800499</td>\n",
              "      <td>0.791461</td>\n",
              "      <td>0.247676</td>\n",
              "      <td>-1.514654</td>\n",
              "      <td>...</td>\n",
              "      <td>0.247998</td>\n",
              "      <td>0.771679</td>\n",
              "      <td>0.909412</td>\n",
              "      <td>-0.689281</td>\n",
              "      <td>-0.327642</td>\n",
              "      <td>-0.139097</td>\n",
              "      <td>-0.055353</td>\n",
              "      <td>-0.059752</td>\n",
              "      <td>378.66</td>\n",
              "      <td>0</td>\n",
              "    </tr>\n",
              "    <tr>\n",
              "      <th>3</th>\n",
              "      <td>1</td>\n",
              "      <td>-0.966272</td>\n",
              "      <td>-0.185226</td>\n",
              "      <td>1.792993</td>\n",
              "      <td>-0.863291</td>\n",
              "      <td>-0.010309</td>\n",
              "      <td>1.247203</td>\n",
              "      <td>0.237609</td>\n",
              "      <td>0.377436</td>\n",
              "      <td>-1.387024</td>\n",
              "      <td>...</td>\n",
              "      <td>-0.108300</td>\n",
              "      <td>0.005274</td>\n",
              "      <td>-0.190321</td>\n",
              "      <td>-1.175575</td>\n",
              "      <td>0.647376</td>\n",
              "      <td>-0.221929</td>\n",
              "      <td>0.062723</td>\n",
              "      <td>0.061458</td>\n",
              "      <td>123.50</td>\n",
              "      <td>0</td>\n",
              "    </tr>\n",
              "    <tr>\n",
              "      <th>4</th>\n",
              "      <td>2</td>\n",
              "      <td>-1.158233</td>\n",
              "      <td>0.877737</td>\n",
              "      <td>1.548718</td>\n",
              "      <td>0.403034</td>\n",
              "      <td>-0.407193</td>\n",
              "      <td>0.095921</td>\n",
              "      <td>0.592941</td>\n",
              "      <td>-0.270533</td>\n",
              "      <td>0.817739</td>\n",
              "      <td>...</td>\n",
              "      <td>-0.009431</td>\n",
              "      <td>0.798278</td>\n",
              "      <td>-0.137458</td>\n",
              "      <td>0.141267</td>\n",
              "      <td>-0.206010</td>\n",
              "      <td>0.502292</td>\n",
              "      <td>0.219422</td>\n",
              "      <td>0.215153</td>\n",
              "      <td>69.99</td>\n",
              "      <td>0</td>\n",
              "    </tr>\n",
              "    <tr>\n",
              "      <th>...</th>\n",
              "      <td>...</td>\n",
              "      <td>...</td>\n",
              "      <td>...</td>\n",
              "      <td>...</td>\n",
              "      <td>...</td>\n",
              "      <td>...</td>\n",
              "      <td>...</td>\n",
              "      <td>...</td>\n",
              "      <td>...</td>\n",
              "      <td>...</td>\n",
              "      <td>...</td>\n",
              "      <td>...</td>\n",
              "      <td>...</td>\n",
              "      <td>...</td>\n",
              "      <td>...</td>\n",
              "      <td>...</td>\n",
              "      <td>...</td>\n",
              "      <td>...</td>\n",
              "      <td>...</td>\n",
              "      <td>...</td>\n",
              "      <td>...</td>\n",
              "    </tr>\n",
              "    <tr>\n",
              "      <th>1521</th>\n",
              "      <td>529</td>\n",
              "      <td>-2.000567</td>\n",
              "      <td>-2.495484</td>\n",
              "      <td>2.467149</td>\n",
              "      <td>1.140053</td>\n",
              "      <td>2.462010</td>\n",
              "      <td>0.594262</td>\n",
              "      <td>-2.110183</td>\n",
              "      <td>0.788347</td>\n",
              "      <td>0.958809</td>\n",
              "      <td>...</td>\n",
              "      <td>0.422452</td>\n",
              "      <td>1.195394</td>\n",
              "      <td>0.297836</td>\n",
              "      <td>-0.857105</td>\n",
              "      <td>-0.219322</td>\n",
              "      <td>0.861019</td>\n",
              "      <td>-0.124622</td>\n",
              "      <td>-0.171060</td>\n",
              "      <td>1.50</td>\n",
              "      <td>1</td>\n",
              "    </tr>\n",
              "    <tr>\n",
              "      <th>1522</th>\n",
              "      <td>164</td>\n",
              "      <td>0.073497</td>\n",
              "      <td>0.551033</td>\n",
              "      <td>0.451890</td>\n",
              "      <td>0.114964</td>\n",
              "      <td>0.822947</td>\n",
              "      <td>0.251480</td>\n",
              "      <td>0.296319</td>\n",
              "      <td>0.139497</td>\n",
              "      <td>-0.123050</td>\n",
              "      <td>...</td>\n",
              "      <td>-0.128758</td>\n",
              "      <td>-0.381932</td>\n",
              "      <td>0.151012</td>\n",
              "      <td>-1.363967</td>\n",
              "      <td>-1.389079</td>\n",
              "      <td>0.075412</td>\n",
              "      <td>0.231750</td>\n",
              "      <td>0.230171</td>\n",
              "      <td>0.99</td>\n",
              "      <td>1</td>\n",
              "    </tr>\n",
              "    <tr>\n",
              "      <th>1523</th>\n",
              "      <td>164</td>\n",
              "      <td>0.073497</td>\n",
              "      <td>0.551033</td>\n",
              "      <td>0.451890</td>\n",
              "      <td>0.114964</td>\n",
              "      <td>0.822947</td>\n",
              "      <td>0.251480</td>\n",
              "      <td>0.296319</td>\n",
              "      <td>0.139497</td>\n",
              "      <td>-0.123050</td>\n",
              "      <td>...</td>\n",
              "      <td>-0.128758</td>\n",
              "      <td>-0.381932</td>\n",
              "      <td>0.151012</td>\n",
              "      <td>-1.363967</td>\n",
              "      <td>-1.389079</td>\n",
              "      <td>0.075412</td>\n",
              "      <td>0.231750</td>\n",
              "      <td>0.230171</td>\n",
              "      <td>0.99</td>\n",
              "      <td>1</td>\n",
              "    </tr>\n",
              "    <tr>\n",
              "      <th>1524</th>\n",
              "      <td>539</td>\n",
              "      <td>-1.738582</td>\n",
              "      <td>0.052740</td>\n",
              "      <td>1.187057</td>\n",
              "      <td>-0.656652</td>\n",
              "      <td>0.920623</td>\n",
              "      <td>-0.291788</td>\n",
              "      <td>0.269083</td>\n",
              "      <td>0.140631</td>\n",
              "      <td>0.023464</td>\n",
              "      <td>...</td>\n",
              "      <td>-0.179545</td>\n",
              "      <td>-0.192036</td>\n",
              "      <td>-0.261879</td>\n",
              "      <td>-0.237477</td>\n",
              "      <td>-0.335040</td>\n",
              "      <td>0.240323</td>\n",
              "      <td>-0.345129</td>\n",
              "      <td>-0.383563</td>\n",
              "      <td>1.00</td>\n",
              "      <td>1</td>\n",
              "    </tr>\n",
              "    <tr>\n",
              "      <th>1525</th>\n",
              "      <td>472</td>\n",
              "      <td>-3.043541</td>\n",
              "      <td>-3.157307</td>\n",
              "      <td>1.088463</td>\n",
              "      <td>2.288644</td>\n",
              "      <td>1.359805</td>\n",
              "      <td>-1.064823</td>\n",
              "      <td>0.325574</td>\n",
              "      <td>-0.067794</td>\n",
              "      <td>-0.270953</td>\n",
              "      <td>...</td>\n",
              "      <td>0.661696</td>\n",
              "      <td>0.435477</td>\n",
              "      <td>1.375966</td>\n",
              "      <td>-0.293803</td>\n",
              "      <td>0.279798</td>\n",
              "      <td>-0.145362</td>\n",
              "      <td>-0.252773</td>\n",
              "      <td>0.035764</td>\n",
              "      <td>529.00</td>\n",
              "      <td>1</td>\n",
              "    </tr>\n",
              "  </tbody>\n",
              "</table>\n",
              "<p>1526 rows × 31 columns</p>\n",
              "</div>"
            ],
            "text/plain": [
              "      Time        V1        V2        V3        V4        V5        V6  \\\n",
              "0        0 -1.359807 -0.072781  2.536347  1.378155 -0.338321  0.462388   \n",
              "1        0  1.191857  0.266151  0.166480  0.448154  0.060018 -0.082361   \n",
              "2        1 -1.358354 -1.340163  1.773209  0.379780 -0.503198  1.800499   \n",
              "3        1 -0.966272 -0.185226  1.792993 -0.863291 -0.010309  1.247203   \n",
              "4        2 -1.158233  0.877737  1.548718  0.403034 -0.407193  0.095921   \n",
              "...    ...       ...       ...       ...       ...       ...       ...   \n",
              "1521   529 -2.000567 -2.495484  2.467149  1.140053  2.462010  0.594262   \n",
              "1522   164  0.073497  0.551033  0.451890  0.114964  0.822947  0.251480   \n",
              "1523   164  0.073497  0.551033  0.451890  0.114964  0.822947  0.251480   \n",
              "1524   539 -1.738582  0.052740  1.187057 -0.656652  0.920623 -0.291788   \n",
              "1525   472 -3.043541 -3.157307  1.088463  2.288644  1.359805 -1.064823   \n",
              "\n",
              "            V7        V8        V9  ...       V21       V22       V23  \\\n",
              "0     0.239599  0.098698  0.363787  ... -0.018307  0.277838 -0.110474   \n",
              "1    -0.078803  0.085102 -0.255425  ... -0.225775 -0.638672  0.101288   \n",
              "2     0.791461  0.247676 -1.514654  ...  0.247998  0.771679  0.909412   \n",
              "3     0.237609  0.377436 -1.387024  ... -0.108300  0.005274 -0.190321   \n",
              "4     0.592941 -0.270533  0.817739  ... -0.009431  0.798278 -0.137458   \n",
              "...        ...       ...       ...  ...       ...       ...       ...   \n",
              "1521 -2.110183  0.788347  0.958809  ...  0.422452  1.195394  0.297836   \n",
              "1522  0.296319  0.139497 -0.123050  ... -0.128758 -0.381932  0.151012   \n",
              "1523  0.296319  0.139497 -0.123050  ... -0.128758 -0.381932  0.151012   \n",
              "1524  0.269083  0.140631  0.023464  ... -0.179545 -0.192036 -0.261879   \n",
              "1525  0.325574 -0.067794 -0.270953  ...  0.661696  0.435477  1.375966   \n",
              "\n",
              "           V24       V25       V26       V27       V28  Amount  Class  \n",
              "0     0.066928  0.128539 -0.189115  0.133558 -0.021053  149.62      0  \n",
              "1    -0.339846  0.167170  0.125895 -0.008983  0.014724    2.69      1  \n",
              "2    -0.689281 -0.327642 -0.139097 -0.055353 -0.059752  378.66      0  \n",
              "3    -1.175575  0.647376 -0.221929  0.062723  0.061458  123.50      0  \n",
              "4     0.141267 -0.206010  0.502292  0.219422  0.215153   69.99      0  \n",
              "...        ...       ...       ...       ...       ...     ...    ...  \n",
              "1521 -0.857105 -0.219322  0.861019 -0.124622 -0.171060    1.50      1  \n",
              "1522 -1.363967 -1.389079  0.075412  0.231750  0.230171    0.99      1  \n",
              "1523 -1.363967 -1.389079  0.075412  0.231750  0.230171    0.99      1  \n",
              "1524 -0.237477 -0.335040  0.240323 -0.345129 -0.383563    1.00      1  \n",
              "1525 -0.293803  0.279798 -0.145362 -0.252773  0.035764  529.00      1  \n",
              "\n",
              "[1526 rows x 31 columns]"
            ]
          },
          "execution_count": 8,
          "metadata": {},
          "output_type": "execute_result"
        }
      ],
      "source": [
        "from imblearn.over_sampling import RandomOverSampler\n",
        "ros = RandomOverSampler(random_state=42)\n",
        "x_ros, y_ros = ros.fit_resample(x, y)\n",
        "data_res=x_ros.join(y_ros)\n",
        "data_res"
      ]
    },
    {
      "cell_type": "markdown",
      "metadata": {
        "id": "S1WOONnTc4l-"
      },
      "source": [
        "Simple Random Sampling"
      ]
    },
    {
      "cell_type": "code",
      "execution_count": 9,
      "metadata": {
        "colab": {
          "base_uri": "https://localhost:8080/"
        },
        "id": "lDRUW072aVo2",
        "outputId": "b752a246-9ea4-48c8-acfb-f69d60040ddd"
      },
      "outputs": [
        {
          "data": {
            "text/plain": [
              "385"
            ]
          },
          "execution_count": 9,
          "metadata": {},
          "output_type": "execute_result"
        }
      ],
      "source": [
        "import math\n",
        "population_size = x_ros.shape[0]\n",
        "z=1.96\n",
        "p=0.5\n",
        "e=0.05\n",
        "sample_size = z**2*p*(1-p)/e**2\n",
        "sample_size = math.ceil(sample_size)\n",
        "sample_size"
      ]
    },
    {
      "cell_type": "code",
      "execution_count": 10,
      "metadata": {
        "colab": {
          "base_uri": "https://localhost:8080/",
          "height": 255
        },
        "id": "tNgIsw83c9PZ",
        "outputId": "e8724141-2427-49c9-c9ff-0400e219dfe3"
      },
      "outputs": [
        {
          "data": {
            "text/html": [
              "<div>\n",
              "<style scoped>\n",
              "    .dataframe tbody tr th:only-of-type {\n",
              "        vertical-align: middle;\n",
              "    }\n",
              "\n",
              "    .dataframe tbody tr th {\n",
              "        vertical-align: top;\n",
              "    }\n",
              "\n",
              "    .dataframe thead th {\n",
              "        text-align: right;\n",
              "    }\n",
              "</style>\n",
              "<table border=\"1\" class=\"dataframe\">\n",
              "  <thead>\n",
              "    <tr style=\"text-align: right;\">\n",
              "      <th></th>\n",
              "      <th>Time</th>\n",
              "      <th>V1</th>\n",
              "      <th>V2</th>\n",
              "      <th>V3</th>\n",
              "      <th>V4</th>\n",
              "      <th>V5</th>\n",
              "      <th>V6</th>\n",
              "      <th>V7</th>\n",
              "      <th>V8</th>\n",
              "      <th>V9</th>\n",
              "      <th>...</th>\n",
              "      <th>V21</th>\n",
              "      <th>V22</th>\n",
              "      <th>V23</th>\n",
              "      <th>V24</th>\n",
              "      <th>V25</th>\n",
              "      <th>V26</th>\n",
              "      <th>V27</th>\n",
              "      <th>V28</th>\n",
              "      <th>Amount</th>\n",
              "      <th>Class</th>\n",
              "    </tr>\n",
              "  </thead>\n",
              "  <tbody>\n",
              "    <tr>\n",
              "      <th>1439</th>\n",
              "      <td>164</td>\n",
              "      <td>0.073497</td>\n",
              "      <td>0.551033</td>\n",
              "      <td>0.451890</td>\n",
              "      <td>0.114964</td>\n",
              "      <td>0.822947</td>\n",
              "      <td>0.251480</td>\n",
              "      <td>0.296319</td>\n",
              "      <td>0.139497</td>\n",
              "      <td>-0.123050</td>\n",
              "      <td>...</td>\n",
              "      <td>-0.128758</td>\n",
              "      <td>-0.381932</td>\n",
              "      <td>0.151012</td>\n",
              "      <td>-1.363967</td>\n",
              "      <td>-1.389079</td>\n",
              "      <td>0.075412</td>\n",
              "      <td>0.231750</td>\n",
              "      <td>0.230171</td>\n",
              "      <td>0.99</td>\n",
              "      <td>1</td>\n",
              "    </tr>\n",
              "    <tr>\n",
              "      <th>76</th>\n",
              "      <td>49</td>\n",
              "      <td>-0.549626</td>\n",
              "      <td>0.418949</td>\n",
              "      <td>1.729833</td>\n",
              "      <td>0.203065</td>\n",
              "      <td>-0.187012</td>\n",
              "      <td>0.253878</td>\n",
              "      <td>0.500894</td>\n",
              "      <td>0.251256</td>\n",
              "      <td>-0.227985</td>\n",
              "      <td>...</td>\n",
              "      <td>0.115062</td>\n",
              "      <td>0.418529</td>\n",
              "      <td>-0.065133</td>\n",
              "      <td>0.264981</td>\n",
              "      <td>0.003958</td>\n",
              "      <td>0.395969</td>\n",
              "      <td>0.027182</td>\n",
              "      <td>0.043506</td>\n",
              "      <td>59.99</td>\n",
              "      <td>0</td>\n",
              "    </tr>\n",
              "    <tr>\n",
              "      <th>1010</th>\n",
              "      <td>118</td>\n",
              "      <td>1.254914</td>\n",
              "      <td>0.350287</td>\n",
              "      <td>0.302488</td>\n",
              "      <td>0.693114</td>\n",
              "      <td>-0.371470</td>\n",
              "      <td>-1.070256</td>\n",
              "      <td>0.086781</td>\n",
              "      <td>-0.202836</td>\n",
              "      <td>0.035154</td>\n",
              "      <td>...</td>\n",
              "      <td>-0.287592</td>\n",
              "      <td>-0.832682</td>\n",
              "      <td>0.128083</td>\n",
              "      <td>0.339427</td>\n",
              "      <td>0.215944</td>\n",
              "      <td>0.094704</td>\n",
              "      <td>-0.023354</td>\n",
              "      <td>0.030892</td>\n",
              "      <td>2.69</td>\n",
              "      <td>1</td>\n",
              "    </tr>\n",
              "    <tr>\n",
              "      <th>660</th>\n",
              "      <td>499</td>\n",
              "      <td>1.255439</td>\n",
              "      <td>0.307729</td>\n",
              "      <td>0.292700</td>\n",
              "      <td>0.699873</td>\n",
              "      <td>-0.428876</td>\n",
              "      <td>-1.088456</td>\n",
              "      <td>0.043840</td>\n",
              "      <td>-0.167739</td>\n",
              "      <td>0.128854</td>\n",
              "      <td>...</td>\n",
              "      <td>-0.294795</td>\n",
              "      <td>-0.882126</td>\n",
              "      <td>0.136846</td>\n",
              "      <td>0.327949</td>\n",
              "      <td>0.194459</td>\n",
              "      <td>0.096516</td>\n",
              "      <td>-0.027271</td>\n",
              "      <td>0.029491</td>\n",
              "      <td>1.98</td>\n",
              "      <td>0</td>\n",
              "    </tr>\n",
              "    <tr>\n",
              "      <th>1132</th>\n",
              "      <td>539</td>\n",
              "      <td>-1.738582</td>\n",
              "      <td>0.052740</td>\n",
              "      <td>1.187057</td>\n",
              "      <td>-0.656652</td>\n",
              "      <td>0.920623</td>\n",
              "      <td>-0.291788</td>\n",
              "      <td>0.269083</td>\n",
              "      <td>0.140631</td>\n",
              "      <td>0.023464</td>\n",
              "      <td>...</td>\n",
              "      <td>-0.179545</td>\n",
              "      <td>-0.192036</td>\n",
              "      <td>-0.261879</td>\n",
              "      <td>-0.237477</td>\n",
              "      <td>-0.335040</td>\n",
              "      <td>0.240323</td>\n",
              "      <td>-0.345129</td>\n",
              "      <td>-0.383563</td>\n",
              "      <td>1.00</td>\n",
              "      <td>1</td>\n",
              "    </tr>\n",
              "  </tbody>\n",
              "</table>\n",
              "<p>5 rows × 31 columns</p>\n",
              "</div>"
            ],
            "text/plain": [
              "      Time        V1        V2        V3        V4        V5        V6  \\\n",
              "1439   164  0.073497  0.551033  0.451890  0.114964  0.822947  0.251480   \n",
              "76      49 -0.549626  0.418949  1.729833  0.203065 -0.187012  0.253878   \n",
              "1010   118  1.254914  0.350287  0.302488  0.693114 -0.371470 -1.070256   \n",
              "660    499  1.255439  0.307729  0.292700  0.699873 -0.428876 -1.088456   \n",
              "1132   539 -1.738582  0.052740  1.187057 -0.656652  0.920623 -0.291788   \n",
              "\n",
              "            V7        V8        V9  ...       V21       V22       V23  \\\n",
              "1439  0.296319  0.139497 -0.123050  ... -0.128758 -0.381932  0.151012   \n",
              "76    0.500894  0.251256 -0.227985  ...  0.115062  0.418529 -0.065133   \n",
              "1010  0.086781 -0.202836  0.035154  ... -0.287592 -0.832682  0.128083   \n",
              "660   0.043840 -0.167739  0.128854  ... -0.294795 -0.882126  0.136846   \n",
              "1132  0.269083  0.140631  0.023464  ... -0.179545 -0.192036 -0.261879   \n",
              "\n",
              "           V24       V25       V26       V27       V28  Amount  Class  \n",
              "1439 -1.363967 -1.389079  0.075412  0.231750  0.230171    0.99      1  \n",
              "76    0.264981  0.003958  0.395969  0.027182  0.043506   59.99      0  \n",
              "1010  0.339427  0.215944  0.094704 -0.023354  0.030892    2.69      1  \n",
              "660   0.327949  0.194459  0.096516 -0.027271  0.029491    1.98      0  \n",
              "1132 -0.237477 -0.335040  0.240323 -0.345129 -0.383563    1.00      1  \n",
              "\n",
              "[5 rows x 31 columns]"
            ]
          },
          "execution_count": 10,
          "metadata": {},
          "output_type": "execute_result"
        }
      ],
      "source": [
        "df_random_sample = data_res.sample(n = sample_size, random_state = 42)\n",
        "df_random_sample.head()"
      ]
    },
    {
      "cell_type": "markdown",
      "metadata": {
        "id": "IlXRgCabfaGY"
      },
      "source": [
        "Systematic Random Sampling"
      ]
    },
    {
      "cell_type": "code",
      "execution_count": 11,
      "metadata": {
        "colab": {
          "base_uri": "https://localhost:8080/",
          "height": 255
        },
        "id": "kr165P_zdMWp",
        "outputId": "8720089f-0b3d-4d3a-bbc1-806742bf845e"
      },
      "outputs": [
        {
          "data": {
            "text/html": [
              "<div>\n",
              "<style scoped>\n",
              "    .dataframe tbody tr th:only-of-type {\n",
              "        vertical-align: middle;\n",
              "    }\n",
              "\n",
              "    .dataframe tbody tr th {\n",
              "        vertical-align: top;\n",
              "    }\n",
              "\n",
              "    .dataframe thead th {\n",
              "        text-align: right;\n",
              "    }\n",
              "</style>\n",
              "<table border=\"1\" class=\"dataframe\">\n",
              "  <thead>\n",
              "    <tr style=\"text-align: right;\">\n",
              "      <th></th>\n",
              "      <th>Time</th>\n",
              "      <th>V1</th>\n",
              "      <th>V2</th>\n",
              "      <th>V3</th>\n",
              "      <th>V4</th>\n",
              "      <th>V5</th>\n",
              "      <th>V6</th>\n",
              "      <th>V7</th>\n",
              "      <th>V8</th>\n",
              "      <th>V9</th>\n",
              "      <th>...</th>\n",
              "      <th>V21</th>\n",
              "      <th>V22</th>\n",
              "      <th>V23</th>\n",
              "      <th>V24</th>\n",
              "      <th>V25</th>\n",
              "      <th>V26</th>\n",
              "      <th>V27</th>\n",
              "      <th>V28</th>\n",
              "      <th>Amount</th>\n",
              "      <th>Class</th>\n",
              "    </tr>\n",
              "  </thead>\n",
              "  <tbody>\n",
              "    <tr>\n",
              "      <th>0</th>\n",
              "      <td>0</td>\n",
              "      <td>-1.359807</td>\n",
              "      <td>-0.072781</td>\n",
              "      <td>2.536347</td>\n",
              "      <td>1.378155</td>\n",
              "      <td>-0.338321</td>\n",
              "      <td>0.462388</td>\n",
              "      <td>0.239599</td>\n",
              "      <td>0.098698</td>\n",
              "      <td>0.363787</td>\n",
              "      <td>...</td>\n",
              "      <td>-0.018307</td>\n",
              "      <td>0.277838</td>\n",
              "      <td>-0.110474</td>\n",
              "      <td>0.066928</td>\n",
              "      <td>0.128539</td>\n",
              "      <td>-0.189115</td>\n",
              "      <td>0.133558</td>\n",
              "      <td>-0.021053</td>\n",
              "      <td>149.62</td>\n",
              "      <td>0</td>\n",
              "    </tr>\n",
              "    <tr>\n",
              "      <th>3</th>\n",
              "      <td>1</td>\n",
              "      <td>-0.966272</td>\n",
              "      <td>-0.185226</td>\n",
              "      <td>1.792993</td>\n",
              "      <td>-0.863291</td>\n",
              "      <td>-0.010309</td>\n",
              "      <td>1.247203</td>\n",
              "      <td>0.237609</td>\n",
              "      <td>0.377436</td>\n",
              "      <td>-1.387024</td>\n",
              "      <td>...</td>\n",
              "      <td>-0.108300</td>\n",
              "      <td>0.005274</td>\n",
              "      <td>-0.190321</td>\n",
              "      <td>-1.175575</td>\n",
              "      <td>0.647376</td>\n",
              "      <td>-0.221929</td>\n",
              "      <td>0.062723</td>\n",
              "      <td>0.061458</td>\n",
              "      <td>123.50</td>\n",
              "      <td>0</td>\n",
              "    </tr>\n",
              "    <tr>\n",
              "      <th>6</th>\n",
              "      <td>4</td>\n",
              "      <td>1.229658</td>\n",
              "      <td>0.141004</td>\n",
              "      <td>0.045371</td>\n",
              "      <td>1.202613</td>\n",
              "      <td>0.191881</td>\n",
              "      <td>0.272708</td>\n",
              "      <td>-0.005159</td>\n",
              "      <td>0.081213</td>\n",
              "      <td>0.464960</td>\n",
              "      <td>...</td>\n",
              "      <td>-0.167716</td>\n",
              "      <td>-0.270710</td>\n",
              "      <td>-0.154104</td>\n",
              "      <td>-0.780055</td>\n",
              "      <td>0.750137</td>\n",
              "      <td>-0.257237</td>\n",
              "      <td>0.034507</td>\n",
              "      <td>0.005168</td>\n",
              "      <td>4.99</td>\n",
              "      <td>0</td>\n",
              "    </tr>\n",
              "    <tr>\n",
              "      <th>9</th>\n",
              "      <td>9</td>\n",
              "      <td>-0.338262</td>\n",
              "      <td>1.119593</td>\n",
              "      <td>1.044367</td>\n",
              "      <td>-0.222187</td>\n",
              "      <td>0.499361</td>\n",
              "      <td>-0.246761</td>\n",
              "      <td>0.651583</td>\n",
              "      <td>0.069539</td>\n",
              "      <td>-0.736727</td>\n",
              "      <td>...</td>\n",
              "      <td>-0.246914</td>\n",
              "      <td>-0.633753</td>\n",
              "      <td>-0.120794</td>\n",
              "      <td>-0.385050</td>\n",
              "      <td>-0.069733</td>\n",
              "      <td>0.094199</td>\n",
              "      <td>0.246219</td>\n",
              "      <td>0.083076</td>\n",
              "      <td>3.68</td>\n",
              "      <td>0</td>\n",
              "    </tr>\n",
              "    <tr>\n",
              "      <th>12</th>\n",
              "      <td>10</td>\n",
              "      <td>1.249999</td>\n",
              "      <td>-1.221637</td>\n",
              "      <td>0.383930</td>\n",
              "      <td>-1.234899</td>\n",
              "      <td>-1.485419</td>\n",
              "      <td>-0.753230</td>\n",
              "      <td>-0.689405</td>\n",
              "      <td>-0.227487</td>\n",
              "      <td>-2.094011</td>\n",
              "      <td>...</td>\n",
              "      <td>-0.231809</td>\n",
              "      <td>-0.483285</td>\n",
              "      <td>0.084668</td>\n",
              "      <td>0.392831</td>\n",
              "      <td>0.161135</td>\n",
              "      <td>-0.354990</td>\n",
              "      <td>0.026416</td>\n",
              "      <td>0.042422</td>\n",
              "      <td>121.50</td>\n",
              "      <td>0</td>\n",
              "    </tr>\n",
              "  </tbody>\n",
              "</table>\n",
              "<p>5 rows × 31 columns</p>\n",
              "</div>"
            ],
            "text/plain": [
              "    Time        V1        V2        V3        V4        V5        V6  \\\n",
              "0      0 -1.359807 -0.072781  2.536347  1.378155 -0.338321  0.462388   \n",
              "3      1 -0.966272 -0.185226  1.792993 -0.863291 -0.010309  1.247203   \n",
              "6      4  1.229658  0.141004  0.045371  1.202613  0.191881  0.272708   \n",
              "9      9 -0.338262  1.119593  1.044367 -0.222187  0.499361 -0.246761   \n",
              "12    10  1.249999 -1.221637  0.383930 -1.234899 -1.485419 -0.753230   \n",
              "\n",
              "          V7        V8        V9  ...       V21       V22       V23       V24  \\\n",
              "0   0.239599  0.098698  0.363787  ... -0.018307  0.277838 -0.110474  0.066928   \n",
              "3   0.237609  0.377436 -1.387024  ... -0.108300  0.005274 -0.190321 -1.175575   \n",
              "6  -0.005159  0.081213  0.464960  ... -0.167716 -0.270710 -0.154104 -0.780055   \n",
              "9   0.651583  0.069539 -0.736727  ... -0.246914 -0.633753 -0.120794 -0.385050   \n",
              "12 -0.689405 -0.227487 -2.094011  ... -0.231809 -0.483285  0.084668  0.392831   \n",
              "\n",
              "         V25       V26       V27       V28  Amount  Class  \n",
              "0   0.128539 -0.189115  0.133558 -0.021053  149.62      0  \n",
              "3   0.647376 -0.221929  0.062723  0.061458  123.50      0  \n",
              "6   0.750137 -0.257237  0.034507  0.005168    4.99      0  \n",
              "9  -0.069733  0.094199  0.246219  0.083076    3.68      0  \n",
              "12  0.161135 -0.354990  0.026416  0.042422  121.50      0  \n",
              "\n",
              "[5 rows x 31 columns]"
            ]
          },
          "execution_count": 11,
          "metadata": {},
          "output_type": "execute_result"
        }
      ],
      "source": [
        "k = math.floor(population_size/sample_size)\n",
        "df_systematic_sample = data_res.iloc[::k]\n",
        "df_systematic_sample.head()"
      ]
    },
    {
      "cell_type": "markdown",
      "metadata": {
        "id": "9uiRfJLVf37o"
      },
      "source": [
        "Cluster Sampling"
      ]
    },
    {
      "cell_type": "code",
      "execution_count": 12,
      "metadata": {
        "colab": {
          "base_uri": "https://localhost:8080/",
          "height": 255
        },
        "id": "PC2v2_r1fyDm",
        "outputId": "de8418fc-8111-4e40-f268-aad978a7c6b2"
      },
      "outputs": [
        {
          "data": {
            "text/html": [
              "<div>\n",
              "<style scoped>\n",
              "    .dataframe tbody tr th:only-of-type {\n",
              "        vertical-align: middle;\n",
              "    }\n",
              "\n",
              "    .dataframe tbody tr th {\n",
              "        vertical-align: top;\n",
              "    }\n",
              "\n",
              "    .dataframe thead th {\n",
              "        text-align: right;\n",
              "    }\n",
              "</style>\n",
              "<table border=\"1\" class=\"dataframe\">\n",
              "  <thead>\n",
              "    <tr style=\"text-align: right;\">\n",
              "      <th></th>\n",
              "      <th>Time</th>\n",
              "      <th>V1</th>\n",
              "      <th>V2</th>\n",
              "      <th>V3</th>\n",
              "      <th>V4</th>\n",
              "      <th>V5</th>\n",
              "      <th>V6</th>\n",
              "      <th>V7</th>\n",
              "      <th>V8</th>\n",
              "      <th>V9</th>\n",
              "      <th>...</th>\n",
              "      <th>V22</th>\n",
              "      <th>V23</th>\n",
              "      <th>V24</th>\n",
              "      <th>V25</th>\n",
              "      <th>V26</th>\n",
              "      <th>V27</th>\n",
              "      <th>V28</th>\n",
              "      <th>Amount</th>\n",
              "      <th>Class</th>\n",
              "      <th>cluster</th>\n",
              "    </tr>\n",
              "  </thead>\n",
              "  <tbody>\n",
              "    <tr>\n",
              "      <th>1272</th>\n",
              "      <td>164</td>\n",
              "      <td>0.073497</td>\n",
              "      <td>0.551033</td>\n",
              "      <td>0.451890</td>\n",
              "      <td>0.114964</td>\n",
              "      <td>0.822947</td>\n",
              "      <td>0.251480</td>\n",
              "      <td>0.296319</td>\n",
              "      <td>0.139497</td>\n",
              "      <td>-0.123050</td>\n",
              "      <td>...</td>\n",
              "      <td>-0.381932</td>\n",
              "      <td>0.151012</td>\n",
              "      <td>-1.363967</td>\n",
              "      <td>-1.389079</td>\n",
              "      <td>0.075412</td>\n",
              "      <td>0.231750</td>\n",
              "      <td>0.230171</td>\n",
              "      <td>0.99</td>\n",
              "      <td>1</td>\n",
              "      <td>0</td>\n",
              "    </tr>\n",
              "    <tr>\n",
              "      <th>361</th>\n",
              "      <td>265</td>\n",
              "      <td>0.073631</td>\n",
              "      <td>1.051207</td>\n",
              "      <td>-0.281223</td>\n",
              "      <td>0.853749</td>\n",
              "      <td>1.065966</td>\n",
              "      <td>1.219197</td>\n",
              "      <td>-1.225597</td>\n",
              "      <td>-2.262214</td>\n",
              "      <td>-0.584441</td>\n",
              "      <td>...</td>\n",
              "      <td>0.870673</td>\n",
              "      <td>-0.266733</td>\n",
              "      <td>-1.048732</td>\n",
              "      <td>0.232705</td>\n",
              "      <td>-0.262463</td>\n",
              "      <td>0.187976</td>\n",
              "      <td>0.231428</td>\n",
              "      <td>1.00</td>\n",
              "      <td>0</td>\n",
              "      <td>0</td>\n",
              "    </tr>\n",
              "    <tr>\n",
              "      <th>152</th>\n",
              "      <td>95</td>\n",
              "      <td>-0.343711</td>\n",
              "      <td>1.118615</td>\n",
              "      <td>1.293386</td>\n",
              "      <td>0.064762</td>\n",
              "      <td>0.023481</td>\n",
              "      <td>-0.992741</td>\n",
              "      <td>0.695814</td>\n",
              "      <td>-0.064809</td>\n",
              "      <td>-0.373640</td>\n",
              "      <td>...</td>\n",
              "      <td>-0.700550</td>\n",
              "      <td>-0.014280</td>\n",
              "      <td>0.330615</td>\n",
              "      <td>-0.165442</td>\n",
              "      <td>0.072342</td>\n",
              "      <td>0.244882</td>\n",
              "      <td>0.098048</td>\n",
              "      <td>2.28</td>\n",
              "      <td>0</td>\n",
              "      <td>0</td>\n",
              "    </tr>\n",
              "    <tr>\n",
              "      <th>891</th>\n",
              "      <td>484</td>\n",
              "      <td>-0.928088</td>\n",
              "      <td>0.398194</td>\n",
              "      <td>1.741131</td>\n",
              "      <td>0.182673</td>\n",
              "      <td>0.966387</td>\n",
              "      <td>-0.901004</td>\n",
              "      <td>0.879016</td>\n",
              "      <td>-0.156590</td>\n",
              "      <td>-0.142117</td>\n",
              "      <td>...</td>\n",
              "      <td>0.281378</td>\n",
              "      <td>-0.257966</td>\n",
              "      <td>0.385384</td>\n",
              "      <td>0.391117</td>\n",
              "      <td>-0.453853</td>\n",
              "      <td>-0.104448</td>\n",
              "      <td>-0.125765</td>\n",
              "      <td>1.00</td>\n",
              "      <td>1</td>\n",
              "      <td>0</td>\n",
              "    </tr>\n",
              "    <tr>\n",
              "      <th>1464</th>\n",
              "      <td>539</td>\n",
              "      <td>-1.738582</td>\n",
              "      <td>0.052740</td>\n",
              "      <td>1.187057</td>\n",
              "      <td>-0.656652</td>\n",
              "      <td>0.920623</td>\n",
              "      <td>-0.291788</td>\n",
              "      <td>0.269083</td>\n",
              "      <td>0.140631</td>\n",
              "      <td>0.023464</td>\n",
              "      <td>...</td>\n",
              "      <td>-0.192036</td>\n",
              "      <td>-0.261879</td>\n",
              "      <td>-0.237477</td>\n",
              "      <td>-0.335040</td>\n",
              "      <td>0.240323</td>\n",
              "      <td>-0.345129</td>\n",
              "      <td>-0.383563</td>\n",
              "      <td>1.00</td>\n",
              "      <td>1</td>\n",
              "      <td>0</td>\n",
              "    </tr>\n",
              "  </tbody>\n",
              "</table>\n",
              "<p>5 rows × 32 columns</p>\n",
              "</div>"
            ],
            "text/plain": [
              "      Time        V1        V2        V3        V4        V5        V6  \\\n",
              "1272   164  0.073497  0.551033  0.451890  0.114964  0.822947  0.251480   \n",
              "361    265  0.073631  1.051207 -0.281223  0.853749  1.065966  1.219197   \n",
              "152     95 -0.343711  1.118615  1.293386  0.064762  0.023481 -0.992741   \n",
              "891    484 -0.928088  0.398194  1.741131  0.182673  0.966387 -0.901004   \n",
              "1464   539 -1.738582  0.052740  1.187057 -0.656652  0.920623 -0.291788   \n",
              "\n",
              "            V7        V8        V9  ...       V22       V23       V24  \\\n",
              "1272  0.296319  0.139497 -0.123050  ... -0.381932  0.151012 -1.363967   \n",
              "361  -1.225597 -2.262214 -0.584441  ...  0.870673 -0.266733 -1.048732   \n",
              "152   0.695814 -0.064809 -0.373640  ... -0.700550 -0.014280  0.330615   \n",
              "891   0.879016 -0.156590 -0.142117  ...  0.281378 -0.257966  0.385384   \n",
              "1464  0.269083  0.140631  0.023464  ... -0.192036 -0.261879 -0.237477   \n",
              "\n",
              "           V25       V26       V27       V28  Amount  Class  cluster  \n",
              "1272 -1.389079  0.075412  0.231750  0.230171    0.99      1        0  \n",
              "361   0.232705 -0.262463  0.187976  0.231428    1.00      0        0  \n",
              "152  -0.165442  0.072342  0.244882  0.098048    2.28      0        0  \n",
              "891   0.391117 -0.453853 -0.104448 -0.125765    1.00      1        0  \n",
              "1464 -0.335040  0.240323 -0.345129 -0.383563    1.00      1        0  \n",
              "\n",
              "[5 rows x 32 columns]"
            ]
          },
          "execution_count": 12,
          "metadata": {},
          "output_type": "execute_result"
        }
      ],
      "source": [
        "def get_clustered_Sample(df, n_per_cluster, num_select_clusters):\n",
        "    N = len(df)\n",
        "    K = int(N/n_per_cluster)\n",
        "    data1 = None\n",
        "    for k in range(K):\n",
        "        sample_k = df.sample(n_per_cluster)\n",
        "        sample_k[\"cluster\"] = np.repeat(k,len(sample_k))\n",
        "        df = df.drop(index = sample_k.index)\n",
        "        data1 = pd.concat([data1,sample_k],axis = 0)\n",
        "\n",
        "    random_chosen_clusters = np.random.randint(0,K,size = num_select_clusters)\n",
        "    samples = data1[data1.cluster.isin(random_chosen_clusters)]\n",
        "    return(samples)\n",
        "\n",
        "df_cluster_sample = get_clustered_Sample(df = data_res, n_per_cluster = sample_size, num_select_clusters = 1)\n",
        "df_cluster_sample.head()"
      ]
    },
    {
      "cell_type": "markdown",
      "metadata": {
        "id": "eDx8fx8zhL4G"
      },
      "source": [
        "Bootstrap Sampling"
      ]
    },
    {
      "cell_type": "code",
      "execution_count": 13,
      "metadata": {
        "colab": {
          "base_uri": "https://localhost:8080/",
          "height": 255
        },
        "id": "_Er8iU73hDbK",
        "outputId": "1c5262c5-5d56-4771-b16b-aec6aa7a160f"
      },
      "outputs": [
        {
          "data": {
            "text/html": [
              "<div>\n",
              "<style scoped>\n",
              "    .dataframe tbody tr th:only-of-type {\n",
              "        vertical-align: middle;\n",
              "    }\n",
              "\n",
              "    .dataframe tbody tr th {\n",
              "        vertical-align: top;\n",
              "    }\n",
              "\n",
              "    .dataframe thead th {\n",
              "        text-align: right;\n",
              "    }\n",
              "</style>\n",
              "<table border=\"1\" class=\"dataframe\">\n",
              "  <thead>\n",
              "    <tr style=\"text-align: right;\">\n",
              "      <th></th>\n",
              "      <th>Time</th>\n",
              "      <th>V1</th>\n",
              "      <th>V2</th>\n",
              "      <th>V3</th>\n",
              "      <th>V4</th>\n",
              "      <th>V5</th>\n",
              "      <th>V6</th>\n",
              "      <th>V7</th>\n",
              "      <th>V8</th>\n",
              "      <th>V9</th>\n",
              "      <th>...</th>\n",
              "      <th>V21</th>\n",
              "      <th>V22</th>\n",
              "      <th>V23</th>\n",
              "      <th>V24</th>\n",
              "      <th>V25</th>\n",
              "      <th>V26</th>\n",
              "      <th>V27</th>\n",
              "      <th>V28</th>\n",
              "      <th>Amount</th>\n",
              "      <th>Class</th>\n",
              "    </tr>\n",
              "  </thead>\n",
              "  <tbody>\n",
              "    <tr>\n",
              "      <th>1126</th>\n",
              "      <td>472</td>\n",
              "      <td>-3.043541</td>\n",
              "      <td>-3.157307</td>\n",
              "      <td>1.088463</td>\n",
              "      <td>2.288644</td>\n",
              "      <td>1.359805</td>\n",
              "      <td>-1.064823</td>\n",
              "      <td>0.325574</td>\n",
              "      <td>-0.067794</td>\n",
              "      <td>-0.270953</td>\n",
              "      <td>...</td>\n",
              "      <td>0.661696</td>\n",
              "      <td>0.435477</td>\n",
              "      <td>1.375966</td>\n",
              "      <td>-0.293803</td>\n",
              "      <td>0.279798</td>\n",
              "      <td>-0.145362</td>\n",
              "      <td>-0.252773</td>\n",
              "      <td>0.035764</td>\n",
              "      <td>529.00</td>\n",
              "      <td>1</td>\n",
              "    </tr>\n",
              "    <tr>\n",
              "      <th>1459</th>\n",
              "      <td>0</td>\n",
              "      <td>1.191857</td>\n",
              "      <td>0.266151</td>\n",
              "      <td>0.166480</td>\n",
              "      <td>0.448154</td>\n",
              "      <td>0.060018</td>\n",
              "      <td>-0.082361</td>\n",
              "      <td>-0.078803</td>\n",
              "      <td>0.085102</td>\n",
              "      <td>-0.255425</td>\n",
              "      <td>...</td>\n",
              "      <td>-0.225775</td>\n",
              "      <td>-0.638672</td>\n",
              "      <td>0.101288</td>\n",
              "      <td>-0.339846</td>\n",
              "      <td>0.167170</td>\n",
              "      <td>0.125895</td>\n",
              "      <td>-0.008983</td>\n",
              "      <td>0.014724</td>\n",
              "      <td>2.69</td>\n",
              "      <td>1</td>\n",
              "    </tr>\n",
              "    <tr>\n",
              "      <th>860</th>\n",
              "      <td>539</td>\n",
              "      <td>-1.738582</td>\n",
              "      <td>0.052740</td>\n",
              "      <td>1.187057</td>\n",
              "      <td>-0.656652</td>\n",
              "      <td>0.920623</td>\n",
              "      <td>-0.291788</td>\n",
              "      <td>0.269083</td>\n",
              "      <td>0.140631</td>\n",
              "      <td>0.023464</td>\n",
              "      <td>...</td>\n",
              "      <td>-0.179545</td>\n",
              "      <td>-0.192036</td>\n",
              "      <td>-0.261879</td>\n",
              "      <td>-0.237477</td>\n",
              "      <td>-0.335040</td>\n",
              "      <td>0.240323</td>\n",
              "      <td>-0.345129</td>\n",
              "      <td>-0.383563</td>\n",
              "      <td>1.00</td>\n",
              "      <td>1</td>\n",
              "    </tr>\n",
              "    <tr>\n",
              "      <th>1294</th>\n",
              "      <td>484</td>\n",
              "      <td>-0.928088</td>\n",
              "      <td>0.398194</td>\n",
              "      <td>1.741131</td>\n",
              "      <td>0.182673</td>\n",
              "      <td>0.966387</td>\n",
              "      <td>-0.901004</td>\n",
              "      <td>0.879016</td>\n",
              "      <td>-0.156590</td>\n",
              "      <td>-0.142117</td>\n",
              "      <td>...</td>\n",
              "      <td>0.066353</td>\n",
              "      <td>0.281378</td>\n",
              "      <td>-0.257966</td>\n",
              "      <td>0.385384</td>\n",
              "      <td>0.391117</td>\n",
              "      <td>-0.453853</td>\n",
              "      <td>-0.104448</td>\n",
              "      <td>-0.125765</td>\n",
              "      <td>1.00</td>\n",
              "      <td>1</td>\n",
              "    </tr>\n",
              "    <tr>\n",
              "      <th>1130</th>\n",
              "      <td>484</td>\n",
              "      <td>-0.928088</td>\n",
              "      <td>0.398194</td>\n",
              "      <td>1.741131</td>\n",
              "      <td>0.182673</td>\n",
              "      <td>0.966387</td>\n",
              "      <td>-0.901004</td>\n",
              "      <td>0.879016</td>\n",
              "      <td>-0.156590</td>\n",
              "      <td>-0.142117</td>\n",
              "      <td>...</td>\n",
              "      <td>0.066353</td>\n",
              "      <td>0.281378</td>\n",
              "      <td>-0.257966</td>\n",
              "      <td>0.385384</td>\n",
              "      <td>0.391117</td>\n",
              "      <td>-0.453853</td>\n",
              "      <td>-0.104448</td>\n",
              "      <td>-0.125765</td>\n",
              "      <td>1.00</td>\n",
              "      <td>1</td>\n",
              "    </tr>\n",
              "  </tbody>\n",
              "</table>\n",
              "<p>5 rows × 31 columns</p>\n",
              "</div>"
            ],
            "text/plain": [
              "      Time        V1        V2        V3        V4        V5        V6  \\\n",
              "1126   472 -3.043541 -3.157307  1.088463  2.288644  1.359805 -1.064823   \n",
              "1459     0  1.191857  0.266151  0.166480  0.448154  0.060018 -0.082361   \n",
              "860    539 -1.738582  0.052740  1.187057 -0.656652  0.920623 -0.291788   \n",
              "1294   484 -0.928088  0.398194  1.741131  0.182673  0.966387 -0.901004   \n",
              "1130   484 -0.928088  0.398194  1.741131  0.182673  0.966387 -0.901004   \n",
              "\n",
              "            V7        V8        V9  ...       V21       V22       V23  \\\n",
              "1126  0.325574 -0.067794 -0.270953  ...  0.661696  0.435477  1.375966   \n",
              "1459 -0.078803  0.085102 -0.255425  ... -0.225775 -0.638672  0.101288   \n",
              "860   0.269083  0.140631  0.023464  ... -0.179545 -0.192036 -0.261879   \n",
              "1294  0.879016 -0.156590 -0.142117  ...  0.066353  0.281378 -0.257966   \n",
              "1130  0.879016 -0.156590 -0.142117  ...  0.066353  0.281378 -0.257966   \n",
              "\n",
              "           V24       V25       V26       V27       V28  Amount  Class  \n",
              "1126 -0.293803  0.279798 -0.145362 -0.252773  0.035764  529.00      1  \n",
              "1459 -0.339846  0.167170  0.125895 -0.008983  0.014724    2.69      1  \n",
              "860  -0.237477 -0.335040  0.240323 -0.345129 -0.383563    1.00      1  \n",
              "1294  0.385384  0.391117 -0.453853 -0.104448 -0.125765    1.00      1  \n",
              "1130  0.385384  0.391117 -0.453853 -0.104448 -0.125765    1.00      1  \n",
              "\n",
              "[5 rows x 31 columns]"
            ]
          },
          "execution_count": 13,
          "metadata": {},
          "output_type": "execute_result"
        }
      ],
      "source": [
        "df_bootstrap_sample = data_res.sample(n = sample_size, replace = True, random_state = 42)\n",
        "df_bootstrap_sample.head()"
      ]
    },
    {
      "cell_type": "markdown",
      "metadata": {
        "id": "DGBxyeT8iEfC"
      },
      "source": [
        "Stratified Sampling"
      ]
    },
    {
      "cell_type": "code",
      "execution_count": 14,
      "metadata": {
        "id": "G8RGlc6HjnnV"
      },
      "outputs": [],
      "source": [
        "from sklearn.model_selection import train_test_split\n"
      ]
    },
    {
      "cell_type": "code",
      "execution_count": 15,
      "metadata": {
        "colab": {
          "base_uri": "https://localhost:8080/",
          "height": 255
        },
        "id": "RD70erM9iIN7",
        "outputId": "e0c2850a-262b-434f-8028-8fbd68458f3d"
      },
      "outputs": [
        {
          "data": {
            "text/html": [
              "<div>\n",
              "<style scoped>\n",
              "    .dataframe tbody tr th:only-of-type {\n",
              "        vertical-align: middle;\n",
              "    }\n",
              "\n",
              "    .dataframe tbody tr th {\n",
              "        vertical-align: top;\n",
              "    }\n",
              "\n",
              "    .dataframe thead th {\n",
              "        text-align: right;\n",
              "    }\n",
              "</style>\n",
              "<table border=\"1\" class=\"dataframe\">\n",
              "  <thead>\n",
              "    <tr style=\"text-align: right;\">\n",
              "      <th></th>\n",
              "      <th>Time</th>\n",
              "      <th>V1</th>\n",
              "      <th>V2</th>\n",
              "      <th>V3</th>\n",
              "      <th>V4</th>\n",
              "      <th>V5</th>\n",
              "      <th>V6</th>\n",
              "      <th>V7</th>\n",
              "      <th>V8</th>\n",
              "      <th>V9</th>\n",
              "      <th>...</th>\n",
              "      <th>V21</th>\n",
              "      <th>V22</th>\n",
              "      <th>V23</th>\n",
              "      <th>V24</th>\n",
              "      <th>V25</th>\n",
              "      <th>V26</th>\n",
              "      <th>V27</th>\n",
              "      <th>V28</th>\n",
              "      <th>Amount</th>\n",
              "      <th>Class</th>\n",
              "    </tr>\n",
              "  </thead>\n",
              "  <tbody>\n",
              "    <tr>\n",
              "      <th>378</th>\n",
              "      <td>275</td>\n",
              "      <td>-0.363519</td>\n",
              "      <td>0.055464</td>\n",
              "      <td>1.857571</td>\n",
              "      <td>-1.085421</td>\n",
              "      <td>-0.981918</td>\n",
              "      <td>-0.473025</td>\n",
              "      <td>0.210565</td>\n",
              "      <td>0.022670</td>\n",
              "      <td>-1.641689</td>\n",
              "      <td>...</td>\n",
              "      <td>-0.408214</td>\n",
              "      <td>-0.907776</td>\n",
              "      <td>0.248037</td>\n",
              "      <td>0.492936</td>\n",
              "      <td>-0.524889</td>\n",
              "      <td>0.340449</td>\n",
              "      <td>0.011119</td>\n",
              "      <td>0.060936</td>\n",
              "      <td>70.33</td>\n",
              "      <td>0</td>\n",
              "    </tr>\n",
              "    <tr>\n",
              "      <th>52</th>\n",
              "      <td>36</td>\n",
              "      <td>-1.169422</td>\n",
              "      <td>1.158314</td>\n",
              "      <td>1.406800</td>\n",
              "      <td>0.860189</td>\n",
              "      <td>-0.103810</td>\n",
              "      <td>0.122035</td>\n",
              "      <td>0.264451</td>\n",
              "      <td>-0.108767</td>\n",
              "      <td>-0.181977</td>\n",
              "      <td>...</td>\n",
              "      <td>0.024498</td>\n",
              "      <td>-0.120153</td>\n",
              "      <td>0.212986</td>\n",
              "      <td>0.087536</td>\n",
              "      <td>-0.946530</td>\n",
              "      <td>0.226700</td>\n",
              "      <td>-0.810101</td>\n",
              "      <td>0.234957</td>\n",
              "      <td>7.99</td>\n",
              "      <td>0</td>\n",
              "    </tr>\n",
              "    <tr>\n",
              "      <th>674</th>\n",
              "      <td>510</td>\n",
              "      <td>1.163271</td>\n",
              "      <td>0.141760</td>\n",
              "      <td>0.124579</td>\n",
              "      <td>0.958551</td>\n",
              "      <td>-0.159554</td>\n",
              "      <td>-0.461529</td>\n",
              "      <td>0.090759</td>\n",
              "      <td>-0.023257</td>\n",
              "      <td>-0.125187</td>\n",
              "      <td>...</td>\n",
              "      <td>0.066320</td>\n",
              "      <td>0.089322</td>\n",
              "      <td>-0.169921</td>\n",
              "      <td>-0.012282</td>\n",
              "      <td>0.660756</td>\n",
              "      <td>-0.325616</td>\n",
              "      <td>-0.002210</td>\n",
              "      <td>0.010419</td>\n",
              "      <td>35.93</td>\n",
              "      <td>0</td>\n",
              "    </tr>\n",
              "    <tr>\n",
              "      <th>582</th>\n",
              "      <td>434</td>\n",
              "      <td>-0.679293</td>\n",
              "      <td>1.120837</td>\n",
              "      <td>1.319394</td>\n",
              "      <td>1.249827</td>\n",
              "      <td>1.147786</td>\n",
              "      <td>-0.086534</td>\n",
              "      <td>1.001436</td>\n",
              "      <td>-0.039752</td>\n",
              "      <td>-1.374497</td>\n",
              "      <td>...</td>\n",
              "      <td>0.067521</td>\n",
              "      <td>0.030112</td>\n",
              "      <td>-0.296954</td>\n",
              "      <td>-0.619850</td>\n",
              "      <td>0.282799</td>\n",
              "      <td>-0.059404</td>\n",
              "      <td>0.048695</td>\n",
              "      <td>0.109200</td>\n",
              "      <td>25.03</td>\n",
              "      <td>0</td>\n",
              "    </tr>\n",
              "    <tr>\n",
              "      <th>358</th>\n",
              "      <td>265</td>\n",
              "      <td>-0.293839</td>\n",
              "      <td>-0.044369</td>\n",
              "      <td>1.093146</td>\n",
              "      <td>-1.576473</td>\n",
              "      <td>-0.107492</td>\n",
              "      <td>-0.791217</td>\n",
              "      <td>0.291465</td>\n",
              "      <td>-0.093164</td>\n",
              "      <td>-1.406366</td>\n",
              "      <td>...</td>\n",
              "      <td>-0.235571</td>\n",
              "      <td>-0.286207</td>\n",
              "      <td>0.069303</td>\n",
              "      <td>0.107632</td>\n",
              "      <td>-0.385142</td>\n",
              "      <td>0.866055</td>\n",
              "      <td>-0.017603</td>\n",
              "      <td>0.039893</td>\n",
              "      <td>24.84</td>\n",
              "      <td>0</td>\n",
              "    </tr>\n",
              "  </tbody>\n",
              "</table>\n",
              "<p>5 rows × 31 columns</p>\n",
              "</div>"
            ],
            "text/plain": [
              "     Time        V1        V2        V3        V4        V5        V6  \\\n",
              "378   275 -0.363519  0.055464  1.857571 -1.085421 -0.981918 -0.473025   \n",
              "52     36 -1.169422  1.158314  1.406800  0.860189 -0.103810  0.122035   \n",
              "674   510  1.163271  0.141760  0.124579  0.958551 -0.159554 -0.461529   \n",
              "582   434 -0.679293  1.120837  1.319394  1.249827  1.147786 -0.086534   \n",
              "358   265 -0.293839 -0.044369  1.093146 -1.576473 -0.107492 -0.791217   \n",
              "\n",
              "           V7        V8        V9  ...       V21       V22       V23  \\\n",
              "378  0.210565  0.022670 -1.641689  ... -0.408214 -0.907776  0.248037   \n",
              "52   0.264451 -0.108767 -0.181977  ...  0.024498 -0.120153  0.212986   \n",
              "674  0.090759 -0.023257 -0.125187  ...  0.066320  0.089322 -0.169921   \n",
              "582  1.001436 -0.039752 -1.374497  ...  0.067521  0.030112 -0.296954   \n",
              "358  0.291465 -0.093164 -1.406366  ... -0.235571 -0.286207  0.069303   \n",
              "\n",
              "          V24       V25       V26       V27       V28  Amount  Class  \n",
              "378  0.492936 -0.524889  0.340449  0.011119  0.060936   70.33      0  \n",
              "52   0.087536 -0.946530  0.226700 -0.810101  0.234957    7.99      0  \n",
              "674 -0.012282  0.660756 -0.325616 -0.002210  0.010419   35.93      0  \n",
              "582 -0.619850  0.282799 -0.059404  0.048695  0.109200   25.03      0  \n",
              "358  0.107632 -0.385142  0.866055 -0.017603  0.039893   24.84      0  \n",
              "\n",
              "[5 rows x 31 columns]"
            ]
          },
          "execution_count": 15,
          "metadata": {},
          "output_type": "execute_result"
        }
      ],
      "source": [
        "df_stratified_sample , _ = train_test_split(\n",
        "    data,\n",
        "    test_size=0.2,\n",
        "    random_state=42,\n",
        "    stratify=data['Class']\n",
        ")\n",
        "df_stratified_sample.head()"
      ]
    },
    {
      "cell_type": "markdown",
      "metadata": {
        "id": "7Y7QxIIaky9I"
      },
      "source": [
        "Scaling Data -\n",
        "1. Simple Random Sample"
      ]
    },
    {
      "cell_type": "code",
      "execution_count": 16,
      "metadata": {
        "id": "K1IHBFBlk9wK"
      },
      "outputs": [],
      "source": [
        "from sklearn.preprocessing import StandardScaler\n",
        "scaler = StandardScaler()\n",
        "X_random_sample = df_random_sample.drop('Class', axis = 1)\n",
        "y_random_sample = df_random_sample['Class']\n",
        "\n",
        "X_random_scaled = scaler.fit_transform(X_random_sample)\n",
        "\n",
        "X_train_random, X_test_random, y_train_random, y_test_random = train_test_split(X_random_scaled, y_random_sample, test_size=0.1,random_state=42)"
      ]
    },
    {
      "cell_type": "markdown",
      "metadata": {
        "id": "eU17nszFnjQ3"
      },
      "source": [
        "2. Systematic Random Sample"
      ]
    },
    {
      "cell_type": "code",
      "execution_count": 17,
      "metadata": {
        "id": "g6AdfYaani6W"
      },
      "outputs": [],
      "source": [
        "X_systematic_sample = df_systematic_sample.drop('Class', axis = 1)\n",
        "y_systematic_sample = df_systematic_sample['Class']\n",
        "\n",
        "X_systematic_scaled = scaler.fit_transform(X_systematic_sample)\n",
        "\n",
        "X_train_systematic, X_test_systematic, y_train_systematic, y_test_systematic = train_test_split(X_systematic_scaled, y_systematic_sample, test_size=0.1, random_state=42)"
      ]
    },
    {
      "cell_type": "markdown",
      "metadata": {
        "id": "zXrkCCjHnwtm"
      },
      "source": [
        "3. Cluster Sample"
      ]
    },
    {
      "cell_type": "code",
      "execution_count": 18,
      "metadata": {
        "id": "QgAc3Vrtn-_-"
      },
      "outputs": [],
      "source": [
        "X_cluster_sample = df_cluster_sample.drop('Class', axis = 1)\n",
        "y_cluster_sample = df_cluster_sample['Class']\n",
        "\n",
        "X_cluster_scaled = scaler.fit_transform(X_cluster_sample)\n",
        "\n",
        "X_train_cluster, X_test_cluster, y_train_cluster, y_test_cluster = train_test_split(X_cluster_scaled, y_cluster_sample, test_size=0.2, random_state=42)"
      ]
    },
    {
      "cell_type": "markdown",
      "metadata": {
        "id": "hztX97mpoIva"
      },
      "source": [
        "4. Bootsrap Sample"
      ]
    },
    {
      "cell_type": "code",
      "execution_count": 19,
      "metadata": {
        "id": "FkBrKJ-goMX4"
      },
      "outputs": [],
      "source": [
        "X_bootstrap_sample = df_bootstrap_sample.drop('Class', axis = 1)\n",
        "y_bootstrap_sample = df_bootstrap_sample['Class']\n",
        "\n",
        "X_bootstrap_scaled = scaler.fit_transform(X_bootstrap_sample)\n",
        "\n",
        "X_train_bootstrap, X_test_bootstrap, y_train_bootstrap, y_test_bootstrap = train_test_split(X_bootstrap_scaled, y_bootstrap_sample, test_size=0.2, random_state=42)\n"
      ]
    },
    {
      "cell_type": "markdown",
      "metadata": {
        "id": "S1zctlT5oQGG"
      },
      "source": [
        "5. Stratified sample"
      ]
    },
    {
      "cell_type": "code",
      "execution_count": 20,
      "metadata": {
        "id": "UHA6xPwOoSpI"
      },
      "outputs": [],
      "source": [
        "X_stratified_sample = df_stratified_sample.drop('Class', axis = 1)\n",
        "y_stratified_sample = df_stratified_sample['Class']\n",
        "\n",
        "X_stratified_scaled = scaler.fit_transform(X_stratified_sample)\n",
        "X_train_stratify, X_test_stratify, y_train_stratify, y_test_stratify = train_test_split(\n",
        "    df_stratified_sample.drop('Class', axis=1),\n",
        "    df_stratified_sample['Class'],\n",
        "    test_size=0.2,\n",
        "    random_state=42,\n",
        "    stratify=df_stratified_sample['Class']\n",
        "    )"
      ]
    },
    {
      "cell_type": "markdown",
      "metadata": {
        "id": "2Q46ziPdkXdH"
      },
      "source": [
        "Model Training\n",
        "1.    Logistic Regression"
      ]
    },
    {
      "cell_type": "code",
      "execution_count": 21,
      "metadata": {
        "id": "9i4f35oVpfKl"
      },
      "outputs": [],
      "source": [
        "from sklearn.metrics import accuracy_score, classification_report\n",
        "from sklearn.linear_model import LogisticRegression\n",
        "model = LogisticRegression()"
      ]
    },
    {
      "cell_type": "markdown",
      "metadata": {
        "id": "iRsA4q_ZpkKv"
      },
      "source": [
        "1. Random Sample"
      ]
    },
    {
      "cell_type": "code",
      "execution_count": 22,
      "metadata": {
        "colab": {
          "base_uri": "https://localhost:8080/"
        },
        "id": "cTVsAo_ikHHr",
        "outputId": "ab08341b-683b-415d-fb1b-de9e8abb8f13"
      },
      "outputs": [
        {
          "name": "stdout",
          "output_type": "stream",
          "text": [
            "Accuracy: 0.8974358974358975\n"
          ]
        }
      ],
      "source": [
        "model.fit(X_train_random, y_train_random)\n",
        "y_pred = model.predict(X_test_random)\n",
        "\n",
        "accuracy = accuracy_score(y_test_random, y_pred)\n",
        "print(\"Accuracy:\", accuracy)"
      ]
    },
    {
      "cell_type": "markdown",
      "metadata": {
        "id": "YQxLH0fcpuE1"
      },
      "source": [
        "2. Sytematic Random Sample"
      ]
    },
    {
      "cell_type": "code",
      "execution_count": 23,
      "metadata": {
        "colab": {
          "base_uri": "https://localhost:8080/"
        },
        "id": "4y29NLSNqEcw",
        "outputId": "85111b22-0e5a-4eaa-c955-1460bc65c877"
      },
      "outputs": [
        {
          "name": "stdout",
          "output_type": "stream",
          "text": [
            "Accuracy: 0.8823529411764706\n"
          ]
        }
      ],
      "source": [
        "model.fit(X_train_systematic, y_train_systematic)\n",
        "y_pred = model.predict(X_test_systematic)\n",
        "\n",
        "accuracy = accuracy_score(y_test_systematic, y_pred)\n",
        "print(\"Accuracy:\", accuracy)"
      ]
    },
    {
      "cell_type": "markdown",
      "metadata": {
        "id": "53qAqH6vqGa0"
      },
      "source": [
        "3. Cluster Sample"
      ]
    },
    {
      "cell_type": "code",
      "execution_count": 24,
      "metadata": {
        "colab": {
          "base_uri": "https://localhost:8080/"
        },
        "id": "j7XD5xjBqI5z",
        "outputId": "12baaa42-4fb9-48bf-96a8-4bf7ce91f1a0"
      },
      "outputs": [
        {
          "name": "stdout",
          "output_type": "stream",
          "text": [
            "Accuracy: 0.8571428571428571\n"
          ]
        }
      ],
      "source": [
        "model.fit(X_train_cluster, y_train_cluster)\n",
        "y_pred = model.predict(X_test_cluster)\n",
        "\n",
        "accuracy = accuracy_score(y_test_cluster, y_pred)\n",
        "print(\"Accuracy:\", accuracy)"
      ]
    },
    {
      "cell_type": "markdown",
      "metadata": {
        "id": "O3dD5EHrqM11"
      },
      "source": [
        "4. Bootsrap Sample"
      ]
    },
    {
      "cell_type": "code",
      "execution_count": 25,
      "metadata": {
        "colab": {
          "base_uri": "https://localhost:8080/"
        },
        "id": "2BtZFSyiqRCO",
        "outputId": "017c9c17-a6f5-461a-85a9-dedb6d29f92f"
      },
      "outputs": [
        {
          "name": "stdout",
          "output_type": "stream",
          "text": [
            "Accuracy: 0.961038961038961\n"
          ]
        }
      ],
      "source": [
        "model.fit(X_train_bootstrap, y_train_bootstrap)\n",
        "y_pred = model.predict(X_test_bootstrap)\n",
        "\n",
        "accuracy = accuracy_score(y_test_bootstrap, y_pred)\n",
        "print(\"Accuracy:\", accuracy)"
      ]
    },
    {
      "cell_type": "markdown",
      "metadata": {
        "id": "Ghmo9pJMqVJ0"
      },
      "source": [
        "5. Sratify Sample"
      ]
    },
    {
      "cell_type": "code",
      "execution_count": 26,
      "metadata": {
        "colab": {
          "base_uri": "https://localhost:8080/"
        },
        "id": "zfMN2csNqYY4",
        "outputId": "761a8ecc-62dc-4c63-9da7-a3d404be29be"
      },
      "outputs": [
        {
          "name": "stdout",
          "output_type": "stream",
          "text": [
            "Accuracy: 0.9838709677419355\n"
          ]
        },
        {
          "name": "stderr",
          "output_type": "stream",
          "text": [
            "c:\\Users\\ACER\\anaconda3\\Lib\\site-packages\\sklearn\\linear_model\\_logistic.py:458: ConvergenceWarning: lbfgs failed to converge (status=1):\n",
            "STOP: TOTAL NO. of ITERATIONS REACHED LIMIT.\n",
            "\n",
            "Increase the number of iterations (max_iter) or scale the data as shown in:\n",
            "    https://scikit-learn.org/stable/modules/preprocessing.html\n",
            "Please also refer to the documentation for alternative solver options:\n",
            "    https://scikit-learn.org/stable/modules/linear_model.html#logistic-regression\n",
            "  n_iter_i = _check_optimize_result(\n"
          ]
        }
      ],
      "source": [
        "model.fit(X_train_stratify, y_train_stratify)\n",
        "y_pred = model.predict(X_test_stratify)\n",
        "\n",
        "accuracy = accuracy_score(y_test_stratify, y_pred)\n",
        "print(\"Accuracy:\", accuracy)"
      ]
    },
    {
      "cell_type": "markdown",
      "metadata": {
        "id": "H_Cublp5yBs6"
      },
      "source": [
        "2.  Gaussian Naive Bayes"
      ]
    },
    {
      "cell_type": "code",
      "execution_count": 27,
      "metadata": {
        "id": "1DZWTkOByk92"
      },
      "outputs": [],
      "source": [
        "from sklearn.naive_bayes import GaussianNB\n",
        "model = GaussianNB()"
      ]
    },
    {
      "cell_type": "markdown",
      "metadata": {
        "id": "K8_IlPSWyspv"
      },
      "source": [
        "1. Simple Random Sample"
      ]
    },
    {
      "cell_type": "code",
      "execution_count": 28,
      "metadata": {
        "colab": {
          "base_uri": "https://localhost:8080/"
        },
        "id": "TPzzBiiqywmh",
        "outputId": "e2be2a21-89fd-42a0-934a-d17927d8dab5"
      },
      "outputs": [
        {
          "name": "stdout",
          "output_type": "stream",
          "text": [
            "Accuracy: 0.5897435897435898\n"
          ]
        }
      ],
      "source": [
        "model.fit(X_train_random, y_train_random)\n",
        "y_pred = model.predict(X_test_random)\n",
        "\n",
        "accuracy = accuracy_score(y_test_random, y_pred)\n",
        "print(\"Accuracy:\", accuracy)"
      ]
    },
    {
      "cell_type": "markdown",
      "metadata": {
        "id": "0vNfR92Ayz5j"
      },
      "source": [
        "2. Systematic Sample"
      ]
    },
    {
      "cell_type": "code",
      "execution_count": 29,
      "metadata": {
        "colab": {
          "base_uri": "https://localhost:8080/"
        },
        "id": "nCsYXOT-y2_D",
        "outputId": "58f31793-e3f0-425d-8aca-56ad34630315"
      },
      "outputs": [
        {
          "name": "stdout",
          "output_type": "stream",
          "text": [
            "Accuracy: 0.6862745098039216\n"
          ]
        }
      ],
      "source": [
        "model.fit(X_train_systematic, y_train_systematic)\n",
        "y_pred = model.predict(X_test_systematic)\n",
        "accuracy = accuracy_score(y_test_systematic, y_pred)\n",
        "print(\"Accuracy:\", accuracy)"
      ]
    },
    {
      "cell_type": "markdown",
      "metadata": {
        "id": "G71Bu2cezBvf"
      },
      "source": [
        "3. Cluster Sample"
      ]
    },
    {
      "cell_type": "code",
      "execution_count": 30,
      "metadata": {
        "colab": {
          "base_uri": "https://localhost:8080/"
        },
        "id": "o_z1PTI6zLIN",
        "outputId": "8bca4e45-0f35-432d-b05e-233a07ef3cc9"
      },
      "outputs": [
        {
          "name": "stdout",
          "output_type": "stream",
          "text": [
            "Accuracy: 0.7922077922077922\n"
          ]
        }
      ],
      "source": [
        "model.fit(X_train_cluster, y_train_cluster)\n",
        "y_pred = model.predict(X_test_cluster)\n",
        "accuracy = accuracy_score(y_test_cluster, y_pred)\n",
        "print(\"Accuracy:\", accuracy)"
      ]
    },
    {
      "cell_type": "markdown",
      "metadata": {
        "id": "j4-sRVLuzQrS"
      },
      "source": [
        "4. Bootstrap Sample"
      ]
    },
    {
      "cell_type": "code",
      "execution_count": 31,
      "metadata": {
        "colab": {
          "base_uri": "https://localhost:8080/"
        },
        "id": "qAqGpnBazTMU",
        "outputId": "e271e1d9-25e7-4dcd-960e-2d67d0d1a790"
      },
      "outputs": [
        {
          "name": "stdout",
          "output_type": "stream",
          "text": [
            "Accuracy: 0.8051948051948052\n"
          ]
        }
      ],
      "source": [
        "model.fit(X_train_bootstrap, y_train_bootstrap)\n",
        "y_pred = model.predict(X_test_bootstrap)\n",
        "\n",
        "accuracy = accuracy_score(y_test_bootstrap, y_pred)\n",
        "print(\"Accuracy:\", accuracy)"
      ]
    },
    {
      "cell_type": "markdown",
      "metadata": {
        "id": "nuKclxzd0O-l"
      },
      "source": [
        "5. Stratified Sample"
      ]
    },
    {
      "cell_type": "code",
      "execution_count": 32,
      "metadata": {
        "colab": {
          "base_uri": "https://localhost:8080/"
        },
        "id": "vWMIs9Tk0RjL",
        "outputId": "c5b49a0f-cbb3-4fe9-b1e4-aa11833b702d"
      },
      "outputs": [
        {
          "name": "stdout",
          "output_type": "stream",
          "text": [
            "Accuracy: 0.9758064516129032\n"
          ]
        }
      ],
      "source": [
        "model.fit(X_train_stratify, y_train_stratify)\n",
        "y_pred = model.predict(X_test_stratify)\n",
        "\n",
        "accuracy = accuracy_score(y_test_stratify, y_pred)\n",
        "print(\"Accuracy:\", accuracy)"
      ]
    },
    {
      "cell_type": "markdown",
      "metadata": {
        "id": "N_RW96-m0W8E"
      },
      "source": [
        "3. SVM"
      ]
    },
    {
      "cell_type": "code",
      "execution_count": 33,
      "metadata": {
        "id": "CIeXnNsi0eha"
      },
      "outputs": [],
      "source": [
        "from sklearn.svm import SVC\n",
        "model = SVC()"
      ]
    },
    {
      "cell_type": "markdown",
      "metadata": {
        "id": "Dn5IlzuH0cWC"
      },
      "source": [
        "1. Random Sample\n"
      ]
    },
    {
      "cell_type": "code",
      "execution_count": 34,
      "metadata": {
        "colab": {
          "base_uri": "https://localhost:8080/"
        },
        "id": "Xa-NGnWU0uaR",
        "outputId": "bf8c725c-6013-4f8b-a0d3-19f182c467c5"
      },
      "outputs": [
        {
          "name": "stdout",
          "output_type": "stream",
          "text": [
            "Accuracy: 0.9743589743589743\n"
          ]
        }
      ],
      "source": [
        "model.fit(X_train_random, y_train_random)\n",
        "y_pred = model.predict(X_test_random)\n",
        "\n",
        "accuracy = accuracy_score(y_test_random, y_pred)\n",
        "print(\"Accuracy:\", accuracy)"
      ]
    },
    {
      "cell_type": "markdown",
      "metadata": {
        "id": "BNj_E_ez0uaR"
      },
      "source": [
        "2. Systematic Sample"
      ]
    },
    {
      "cell_type": "code",
      "execution_count": 35,
      "metadata": {
        "colab": {
          "base_uri": "https://localhost:8080/"
        },
        "id": "5xUO2wE-0uaR",
        "outputId": "4fff6641-2259-44dc-9b34-e5f6644270fd"
      },
      "outputs": [
        {
          "name": "stdout",
          "output_type": "stream",
          "text": [
            "Accuracy: 0.9803921568627451\n"
          ]
        }
      ],
      "source": [
        "model.fit(X_train_systematic, y_train_systematic)\n",
        "y_pred = model.predict(X_test_systematic)\n",
        "accuracy = accuracy_score(y_test_systematic, y_pred)\n",
        "print(\"Accuracy:\", accuracy)"
      ]
    },
    {
      "cell_type": "markdown",
      "metadata": {
        "id": "LLr75dfB0uaS"
      },
      "source": [
        "3. Cluster Sample"
      ]
    },
    {
      "cell_type": "code",
      "execution_count": 36,
      "metadata": {
        "colab": {
          "base_uri": "https://localhost:8080/"
        },
        "id": "bAHHTiMo0uaS",
        "outputId": "b4e1bde6-d03a-41da-920b-8ba64bb43e18"
      },
      "outputs": [
        {
          "name": "stdout",
          "output_type": "stream",
          "text": [
            "Accuracy: 0.961038961038961\n"
          ]
        }
      ],
      "source": [
        "model.fit(X_train_cluster, y_train_cluster)\n",
        "y_pred = model.predict(X_test_cluster)\n",
        "accuracy = accuracy_score(y_test_cluster, y_pred)\n",
        "print(\"Accuracy:\", accuracy)"
      ]
    },
    {
      "cell_type": "markdown",
      "metadata": {
        "id": "5cwd8gss0uaS"
      },
      "source": [
        "4. Bootstrap Sample"
      ]
    },
    {
      "cell_type": "code",
      "execution_count": 37,
      "metadata": {
        "colab": {
          "base_uri": "https://localhost:8080/"
        },
        "id": "M6mieEmc0uaT",
        "outputId": "e540f412-5e85-460c-ce66-9cfbdc5665bb"
      },
      "outputs": [
        {
          "name": "stdout",
          "output_type": "stream",
          "text": [
            "Accuracy: 0.961038961038961\n"
          ]
        }
      ],
      "source": [
        "model.fit(X_train_bootstrap, y_train_bootstrap)\n",
        "y_pred = model.predict(X_test_bootstrap)\n",
        "\n",
        "accuracy = accuracy_score(y_test_bootstrap, y_pred)\n",
        "print(\"Accuracy:\", accuracy)"
      ]
    },
    {
      "cell_type": "markdown",
      "metadata": {
        "id": "yeoiq83E0uaT"
      },
      "source": [
        "5. Stratified Sample"
      ]
    },
    {
      "cell_type": "code",
      "execution_count": 38,
      "metadata": {
        "colab": {
          "base_uri": "https://localhost:8080/"
        },
        "id": "9BKIfRH90uaT",
        "outputId": "a2b8cdee-46c5-4704-d1fc-619aaf51fcc6"
      },
      "outputs": [
        {
          "name": "stdout",
          "output_type": "stream",
          "text": [
            "Accuracy: 0.9919354838709677\n"
          ]
        }
      ],
      "source": [
        "model.fit(X_train_stratify, y_train_stratify)\n",
        "y_pred = model.predict(X_test_stratify)\n",
        "\n",
        "accuracy = accuracy_score(y_test_stratify, y_pred)\n",
        "print(\"Accuracy:\", accuracy)"
      ]
    },
    {
      "cell_type": "markdown",
      "metadata": {
        "id": "SZMDASNq0uaT"
      },
      "source": [
        "4. Decistion Trees"
      ]
    },
    {
      "cell_type": "code",
      "execution_count": 39,
      "metadata": {
        "id": "9hQ_grXM05LI"
      },
      "outputs": [],
      "source": [
        "from sklearn.tree import DecisionTreeClassifier\n",
        "model = DecisionTreeClassifier()"
      ]
    },
    {
      "cell_type": "markdown",
      "metadata": {
        "id": "XdF5GwdW1Fsl"
      },
      "source": [
        "1. Random Sample\n"
      ]
    },
    {
      "cell_type": "code",
      "execution_count": 40,
      "metadata": {
        "colab": {
          "base_uri": "https://localhost:8080/"
        },
        "id": "7DfUaU3f1Fsm",
        "outputId": "03a4d26a-a72c-4405-bc33-a3ae8aaa3755"
      },
      "outputs": [
        {
          "name": "stdout",
          "output_type": "stream",
          "text": [
            "Accuracy: 0.9230769230769231\n"
          ]
        }
      ],
      "source": [
        "model.fit(X_train_random, y_train_random)\n",
        "y_pred = model.predict(X_test_random)\n",
        "\n",
        "accuracy = accuracy_score(y_test_random, y_pred)\n",
        "print(\"Accuracy:\", accuracy)"
      ]
    },
    {
      "cell_type": "markdown",
      "metadata": {
        "id": "t1jjnSo81Fsm"
      },
      "source": [
        "2. Systematic Sample"
      ]
    },
    {
      "cell_type": "code",
      "execution_count": 41,
      "metadata": {
        "colab": {
          "base_uri": "https://localhost:8080/"
        },
        "id": "ZJUTVWcA1Fsm",
        "outputId": "294598fe-eecc-4e28-8c40-2fd1c70eab28"
      },
      "outputs": [
        {
          "name": "stdout",
          "output_type": "stream",
          "text": [
            "Accuracy: 0.9803921568627451\n"
          ]
        }
      ],
      "source": [
        "model.fit(X_train_systematic, y_train_systematic)\n",
        "y_pred = model.predict(X_test_systematic)\n",
        "accuracy = accuracy_score(y_test_systematic, y_pred)\n",
        "print(\"Accuracy:\", accuracy)"
      ]
    },
    {
      "cell_type": "markdown",
      "metadata": {
        "id": "T2T3aU401Fsm"
      },
      "source": [
        "3. Cluster Sample"
      ]
    },
    {
      "cell_type": "code",
      "execution_count": 42,
      "metadata": {
        "colab": {
          "base_uri": "https://localhost:8080/"
        },
        "id": "K2eCNNVf1Fsm",
        "outputId": "0e8a58b1-ee63-4b95-cd61-4fb9dafa3a58"
      },
      "outputs": [
        {
          "name": "stdout",
          "output_type": "stream",
          "text": [
            "Accuracy: 0.974025974025974\n"
          ]
        }
      ],
      "source": [
        "model.fit(X_train_cluster, y_train_cluster)\n",
        "y_pred = model.predict(X_test_cluster)\n",
        "accuracy = accuracy_score(y_test_cluster, y_pred)\n",
        "print(\"Accuracy:\", accuracy)"
      ]
    },
    {
      "cell_type": "markdown",
      "metadata": {
        "id": "BkuWjQCi1Fsm"
      },
      "source": [
        "4. Bootstrap Sample"
      ]
    },
    {
      "cell_type": "code",
      "execution_count": 43,
      "metadata": {
        "colab": {
          "base_uri": "https://localhost:8080/"
        },
        "id": "44sc5gkN1Fsn",
        "outputId": "0752b6a4-29a2-44a0-8730-41e7d63d91e5"
      },
      "outputs": [
        {
          "name": "stdout",
          "output_type": "stream",
          "text": [
            "Accuracy: 0.987012987012987\n"
          ]
        }
      ],
      "source": [
        "model.fit(X_train_bootstrap, y_train_bootstrap)\n",
        "y_pred = model.predict(X_test_bootstrap)\n",
        "\n",
        "accuracy = accuracy_score(y_test_bootstrap, y_pred)\n",
        "print(\"Accuracy:\", accuracy)"
      ]
    },
    {
      "cell_type": "markdown",
      "metadata": {
        "id": "ZY5zGCqJ1Fsn"
      },
      "source": [
        "5. Stratified Sample"
      ]
    },
    {
      "cell_type": "code",
      "execution_count": 44,
      "metadata": {
        "colab": {
          "base_uri": "https://localhost:8080/"
        },
        "id": "aATTyWmg1Fsn",
        "outputId": "57c7c78c-e4bd-48a4-f0da-7cc4c1847126"
      },
      "outputs": [
        {
          "name": "stdout",
          "output_type": "stream",
          "text": [
            "Accuracy: 0.9919354838709677\n"
          ]
        }
      ],
      "source": [
        "model.fit(X_train_stratify, y_train_stratify)\n",
        "y_pred = model.predict(X_test_stratify)\n",
        "\n",
        "accuracy = accuracy_score(y_test_stratify, y_pred)\n",
        "print(\"Accuracy:\", accuracy)"
      ]
    },
    {
      "cell_type": "markdown",
      "metadata": {
        "id": "qYpsQAQc1MwT"
      },
      "source": [
        "5. Random Forest"
      ]
    },
    {
      "cell_type": "code",
      "execution_count": 45,
      "metadata": {
        "id": "Ql6QtaTc1XV5"
      },
      "outputs": [],
      "source": [
        "from sklearn.ensemble import RandomForestClassifier\n",
        "model = RandomForestClassifier(n_estimators=10, random_state=42)"
      ]
    },
    {
      "cell_type": "markdown",
      "metadata": {
        "id": "wr8pUXvx1gjn"
      },
      "source": [
        "1. Random Sample\n"
      ]
    },
    {
      "cell_type": "code",
      "execution_count": 46,
      "metadata": {
        "colab": {
          "base_uri": "https://localhost:8080/"
        },
        "id": "ykaWTRec1gjo",
        "outputId": "d4713b08-1418-4bb5-e623-5f9efd670b08"
      },
      "outputs": [
        {
          "name": "stdout",
          "output_type": "stream",
          "text": [
            "Accuracy: 0.9743589743589743\n"
          ]
        }
      ],
      "source": [
        "model.fit(X_train_random, y_train_random)\n",
        "y_pred = model.predict(X_test_random)\n",
        "\n",
        "accuracy = accuracy_score(y_test_random, y_pred)\n",
        "print(\"Accuracy:\", accuracy)"
      ]
    },
    {
      "cell_type": "markdown",
      "metadata": {
        "id": "Sup__a4z1gjo"
      },
      "source": [
        "2. Systematic Sample"
      ]
    },
    {
      "cell_type": "code",
      "execution_count": 47,
      "metadata": {
        "colab": {
          "base_uri": "https://localhost:8080/"
        },
        "id": "RdPjXllK1gjo",
        "outputId": "268ab05c-28e3-4545-c5f5-4e5af385ea6d"
      },
      "outputs": [
        {
          "name": "stdout",
          "output_type": "stream",
          "text": [
            "Accuracy: 1.0\n"
          ]
        }
      ],
      "source": [
        "model.fit(X_train_systematic, y_train_systematic)\n",
        "y_pred = model.predict(X_test_systematic)\n",
        "accuracy = accuracy_score(y_test_systematic, y_pred)\n",
        "print(\"Accuracy:\", accuracy)"
      ]
    },
    {
      "cell_type": "markdown",
      "metadata": {
        "id": "wdTQIFa61gjo"
      },
      "source": [
        "3. Cluster Sample"
      ]
    },
    {
      "cell_type": "code",
      "execution_count": 48,
      "metadata": {
        "colab": {
          "base_uri": "https://localhost:8080/"
        },
        "id": "4fznLWme1gjo",
        "outputId": "c7102f2f-a8a9-4fc4-ec44-bf264ed80524"
      },
      "outputs": [
        {
          "name": "stdout",
          "output_type": "stream",
          "text": [
            "Accuracy: 1.0\n"
          ]
        }
      ],
      "source": [
        "model.fit(X_train_cluster, y_train_cluster)\n",
        "y_pred = model.predict(X_test_cluster)\n",
        "accuracy = accuracy_score(y_test_cluster, y_pred)\n",
        "print(\"Accuracy:\", accuracy)"
      ]
    },
    {
      "cell_type": "markdown",
      "metadata": {
        "id": "xYLT5pGI1gjo"
      },
      "source": [
        "4. Bootstrap Sample"
      ]
    },
    {
      "cell_type": "code",
      "execution_count": 49,
      "metadata": {
        "colab": {
          "base_uri": "https://localhost:8080/"
        },
        "id": "VvYQyn6_1gjo",
        "outputId": "f9d05266-3538-4731-e552-ff0d0408d5a0"
      },
      "outputs": [
        {
          "name": "stdout",
          "output_type": "stream",
          "text": [
            "Accuracy: 1.0\n"
          ]
        }
      ],
      "source": [
        "model.fit(X_train_bootstrap, y_train_bootstrap)\n",
        "y_pred = model.predict(X_test_bootstrap)\n",
        "\n",
        "accuracy = accuracy_score(y_test_bootstrap, y_pred)\n",
        "print(\"Accuracy:\", accuracy)"
      ]
    },
    {
      "cell_type": "markdown",
      "metadata": {
        "id": "8PuD0kfx1gjp"
      },
      "source": [
        "5. Stratified Sample"
      ]
    },
    {
      "cell_type": "code",
      "execution_count": 50,
      "metadata": {
        "colab": {
          "base_uri": "https://localhost:8080/"
        },
        "id": "zCOY8bMe1gjp",
        "outputId": "6a381c27-5fee-4d79-e2e8-2bb5cbf67013"
      },
      "outputs": [
        {
          "name": "stdout",
          "output_type": "stream",
          "text": [
            "Accuracy: 0.9919354838709677\n"
          ]
        }
      ],
      "source": [
        "model.fit(X_train_stratify, y_train_stratify)\n",
        "y_pred = model.predict(X_test_stratify)\n",
        "\n",
        "accuracy = accuracy_score(y_test_stratify, y_pred)\n",
        "print(\"Accuracy:\", accuracy)"
      ]
    }
  ],
  "metadata": {
    "colab": {
      "authorship_tag": "ABX9TyOrIbX0g7o63LgNWWREwPpj",
      "include_colab_link": true,
      "provenance": []
    },
    "kernelspec": {
      "display_name": "Python 3",
      "name": "python3"
    },
    "language_info": {
      "codemirror_mode": {
        "name": "ipython",
        "version": 3
      },
      "file_extension": ".py",
      "mimetype": "text/x-python",
      "name": "python",
      "nbconvert_exporter": "python",
      "pygments_lexer": "ipython3",
      "version": "3.11.5"
    }
  },
  "nbformat": 4,
  "nbformat_minor": 0
}
